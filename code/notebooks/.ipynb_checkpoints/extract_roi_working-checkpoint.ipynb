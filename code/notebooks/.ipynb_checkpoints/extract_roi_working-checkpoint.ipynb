{
 "cells": [
  {
   "cell_type": "code",
   "execution_count": null,
   "metadata": {},
   "outputs": [],
   "source": [
    "import numpy as np\n",
    "import pandas as pd\n",
    "import matplotlib.pyplot as plt\n",
    "import nilearn as nl\n",
    "from nilearn import image, plotting, input_data"
   ]
  },
  {
   "cell_type": "code",
   "execution_count": null,
   "metadata": {},
   "outputs": [],
   "source": [
    "def load_sub4d(sub_n,task='videos',max_len=4000,numpy_output=False):\n",
    "  \"\"\"\n",
    "  task = videos / recall2 \n",
    "  \"\"\"\n",
    "  ses = 2\n",
    "  fpath = 'data/fmri/func/sub-1%.2i_ses-0%i_task-%s_space-MNI152NLin2009cAsym_desc-preproc_bold.nii.gz'%(sub_n,ses,task)\n",
    "  try:\n",
    "    img = nl.image.load_img(fpath)\n",
    "  except:\n",
    "    print('NOT FOUND:',fpath)\n",
    "    return None\n",
    "  img = img.slicer[:,:,:,:max_len] # lengths differ\n",
    "  if numpy_output:\n",
    "    img = img.get_fdata() # nilearn into np\n",
    "  return img\n"
   ]
  },
  {
   "cell_type": "code",
   "execution_count": null,
   "metadata": {},
   "outputs": [],
   "source": [
    "ROI_NAME_L = [\n",
    "  'rglasser_AT_net',\n",
    "  'rglasser_MP_net',\n",
    "  'rglasser_MTN_net',\n",
    "  'rglasser_PM_net',\n",
    "  'rhippocampusAAL',\n",
    "  # 'rsherlockAvg_fc_thr5_mpfc',\n",
    "  # 'rsherlockAvg_fc_thr5_pmc',\n",
    "  # 'rsherlockAvg_fc_thr5_lTPJ',\n",
    "  # 'rsherlockAvg_fc_thr5_rTPJ',\n",
    "  # 'rsherlockAvg_fc_thr5_lSFG',\n",
    "  # 'rsherlockAvg_fc_thr5_rSFG',\n",
    "  # 'rhippocampusL_AAL',\n",
    "  # 'rhippocampusR_AAL'  \n",
    "]"
   ]
  },
  {
   "cell_type": "code",
   "execution_count": null,
   "metadata": {},
   "outputs": [],
   "source": [
    "\n",
    "for sub_n in SUB_NS_FULL:\n",
    "  # load subj\n",
    "  for task in ['videos','recall2']:\n",
    "    sub4d = load_sub4d(sub_n,task=task,max_len=4000,numpy_output=False)\n",
    "    if sub4d == None:\n",
    "      continue\n",
    "    for roi_name in ROI_NAME_L:\n",
    "      print('subj%i'%sub_n,'roi=',roi_name)\n",
    "      # load & threshold mask\n",
    "      roi_img = nl.image.threshold_img(\n",
    "        nl.image.load_img(\"data/fmri/rois/%s.nii\"%roi_name\n",
    "          ),0.5)\n",
    "      # plt masks\n",
    "      plt.figure(figsize=(3,8))\n",
    "      nl.plotting.plot_glass_brain(roi_img)\n",
    "      plt.savefig('figures/masks/%s'%roi_name)\n",
    "      plt.close('all')\n",
    "      # init & apply mask\n",
    "      nifti_masker = nl.input_data.NiftiMasker(mask_img=roi_img,high_pass=1/128,t_r=1.5)\n",
    "      sub4d_masked = nifti_masker.fit_transform(sub4d)\n",
    "      # save\n",
    "      save_fpath = \"sub-%i_task-%s_roi-%s\"%(sub_n,task,roi_name)\n",
    "      np.save('data/fmri/masked/%s'%save_fpath,sub4d_masked)\"\n"
   ]
  }
 ],
 "metadata": {
  "kernelspec": {
   "display_name": "Python 3",
   "language": "python",
   "name": "python3"
  },
  "language_info": {
   "codemirror_mode": {
    "name": "ipython",
    "version": 3
   },
   "file_extension": ".py",
   "mimetype": "text/x-python",
   "name": "python",
   "nbconvert_exporter": "python",
   "pygments_lexer": "ipython3",
   "version": "3.6.12"
  }
 },
 "nbformat": 4,
 "nbformat_minor": 4
}
