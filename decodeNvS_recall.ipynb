{
 "cells": [
  {
   "cell_type": "code",
   "execution_count": 20,
   "metadata": {},
   "outputs": [],
   "source": [
    "import numpy as np\n",
    "import pandas as pd\n",
    "import itertools\n",
    "import matplotlib.pyplot as plt\n",
    "\n",
    "import sklearn\n",
    "import brainiak\n",
    "import nilearn as nl\n",
    "from nilearn import image, plotting, input_data\n",
    "\n",
    "from scipy.spatial import distance\n",
    "from sklearn.preprocessing import StandardScaler"
   ]
  },
  {
   "cell_type": "code",
   "execution_count": 21,
   "metadata": {},
   "outputs": [],
   "source": [
    "from sklearn.linear_model import LogisticRegression\n",
    "pd.options.display.max_rows = 200"
   ]
  },
  {
   "cell_type": "markdown",
   "metadata": {},
   "source": [
    "# load dataframes with timing and order information"
   ]
  },
  {
   "cell_type": "code",
   "execution_count": 34,
   "metadata": {},
   "outputs": [
    {
     "name": "stdout",
     "output_type": "stream",
     "text": [
      "\n",
      "    wed_num  vid_str  onset_TR  len_TRs  offset_TR\n",
      "0        0  vid1a_q        12       17         29\n",
      "1        0  vid1b_q        29        6         35\n",
      "2        0   vid2_q        35       11         46\n",
      "3        0   vid3_q        49       15         64\n",
      "4        0   vid4_q        67       16         83\n",
      "\n",
      "    sub_num  wed_id  onset_TR  offset_TR wed_class\n",
      "0        2      34         0         27       NaN\n",
      "1        2      29        27         46       NaN\n",
      "2        2      17        46         63       NaN\n",
      "3        2      38        63         81       NaN\n",
      "4        2       6        81        124       NaN\n",
      "\n",
      "   NorS  wed_id  wed_num  sub_num\n",
      "0    S      20        0        3\n",
      "1    N      23        1        3\n",
      "2    N       6        2        3\n",
      "3    S      17        3        3\n",
      "4    S      38        4        3\n"
     ]
    }
   ],
   "source": [
    "\"\"\" onset and offset TR for each state of each wedding \"\"\"\n",
    "timing_df_view = pd.read_csv('deriv/timing_df_viewing.csv',index_col=0)\n",
    "print('\\n',timing_df_view.head())\n",
    "timing_df_recal = pd.read_csv('deriv/timing_df_recall.csv',index_col=0)\n",
    "print('\\n',timing_df_recal.head())\n",
    "wedclass_df = pd.read_csv('deriv/NvSclass_df.csv',index_col=0)\n",
    "print('\\n',wedclass_df.head())\n",
    "\n",
    "def extract_TRs_view(wed_num):\n",
    "  \"\"\"\n",
    "  returns a L containing the valid TRs in wed_num\n",
    "    NB consistent across subjects\n",
    "  valid TRs are those within a vid\n",
    "  \"\"\"\n",
    "  timing_df = timing_df_view\n",
    "  wed_timing_df = timing_df[timing_df.wed_num == wed_num]\n",
    "  L = []\n",
    "  for i,row in wed_timing_df.iterrows():\n",
    "    vid_TRs = np.arange(row.onset_TR,row.offset_TR)\n",
    "    L.extend(vid_TRs)\n",
    "  return L\n",
    "\n",
    "def extract_TRs_recall(sub_num,wed_id):\n",
    "  \"\"\"\n",
    "  returns a L containing the valid TRs in wed_num\n",
    "    NB consistent across subjects\n",
    "  valid TRs are those within a vid\n",
    "  \"\"\"\n",
    "  timing_df = timing_df_recal\n",
    "  # wed_timing_df = timing_df[timing_df.wed_num == wed_num]\n",
    "  df_row = timing_df[(timing_df.wed_id==wed_id) & (timing_df.sub_num==sub_num)]\n",
    "  TRs = np.arange(df_row.onset_TR.values,df_row.offset_TR.values)\n",
    "  wed_class = df_row.wed_class.values[0]\n",
    "  return TRs,wed_class"
   ]
  },
  {
   "cell_type": "code",
   "execution_count": 6,
   "metadata": {},
   "outputs": [],
   "source": [
    "get_wed_label = lambda sub_num,wed_num:\\\n",
    "  order_df[(\n",
    "    order_df.sub_num == sub_num) & (\n",
    "    order_df.wed_num == wed_num\n",
    "  )].NorS.values[0]"
   ]
  },
  {
   "cell_type": "code",
   "execution_count": 7,
   "metadata": {},
   "outputs": [],
   "source": [
    "fold_full_L = [\n",
    "    [0,1],[2,3],[4,5],\n",
    "    [6,7],[8,9],[10,11]\n",
    "  ]"
   ]
  },
  {
   "cell_type": "code",
   "execution_count": 8,
   "metadata": {
    "scrolled": true
   },
   "outputs": [],
   "source": [
    "def get_fold_info(sub_num,fold_L):\n",
    "  \"\"\" \n",
    "  \"\"\"\n",
    "  Y_label = []\n",
    "  X_TRs = []\n",
    "  ## TEST TRS\n",
    "  for wed_num in fold_L:\n",
    "    # X TRs\n",
    "    wed_TRs = extract_TRs(wed_num)\n",
    "    X_TRs.extend(wed_TRs)\n",
    "    # Y labels\n",
    "    y_wed = np.repeat(get_wed_label(sub_num,wed_num)=='N',len(wed_TRs)).astype(int)\n",
    "    Y_label.extend(y_wed)\n",
    "  return X_TRs,Y_label"
   ]
  },
  {
   "cell_type": "code",
   "execution_count": 9,
   "metadata": {},
   "outputs": [],
   "source": [
    "def load_sub_roi(sub_num,task,roi_name):\n",
    "  fpath = \"sub-%i_task-%s_roi-%s.npy\" %(sub_num,task,roi_name)\n",
    "  return np.load('data/fmri/masked/'+fpath)"
   ]
  },
  {
   "cell_type": "code",
   "execution_count": 10,
   "metadata": {},
   "outputs": [],
   "source": [
    "get_fold_L_train = lambda fold_num: [j for i in fold_full_L if i!=fold_full_L[fold_num] for j in i]"
   ]
  },
  {
   "cell_type": "code",
   "execution_count": 11,
   "metadata": {},
   "outputs": [
    {
     "data": {
      "text/plain": [
       "[0, 1, 2, 3, 6, 7, 8, 9, 10, 11]"
      ]
     },
     "execution_count": 11,
     "metadata": {},
     "output_type": "execute_result"
    }
   ],
   "source": [
    "get_fold_L_train(2)"
   ]
  },
  {
   "cell_type": "markdown",
   "metadata": {},
   "source": [
    "# xval loop"
   ]
  },
  {
   "cell_type": "code",
   "execution_count": 12,
   "metadata": {},
   "outputs": [],
   "source": [
    "SUB_NS = np.arange(1,45)"
   ]
  },
  {
   "cell_type": "code",
   "execution_count": 13,
   "metadata": {
    "scrolled": false
   },
   "outputs": [],
   "source": [
    "\"\"\" \n",
    "xval loop \n",
    "\"\"\"\n",
    "\n",
    "def xval(roi_name,clf_c):\n",
    "  yhat_L = []\n",
    "  for sub_num in SUB_NS:\n",
    "    print(sub_num)\n",
    "    try:\n",
    "      sub_roi = load_sub_roi(sub_num,'videos',roi_name)\n",
    "    except:\n",
    "      print('failed to load sub_roi, S=',sub_num,'roi=',roi_name)\n",
    "      continue\n",
    "    # fold information\n",
    "    for fold_num in range(6):\n",
    "      fold_L_test = fold_full_L[fold_num]\n",
    "      fold_L_train = get_fold_L_train(fold_num)\n",
    "      print('test',fold_L_test,'train',fold_L_train)\n",
    "      # TRAIN DATA\n",
    "      X_TRs_train,Y_train = get_fold_info(sub_num,fold_L_train)\n",
    "      X_train = sub_roi[X_TRs_train,:]\n",
    "      # TEST DATA\n",
    "      X_TRs_test,Y_test = get_fold_info(sub_num,fold_L_test)\n",
    "      X_test = sub_roi[X_TRs_test,:]\n",
    "      # NORMALIZE\n",
    "      scaler = StandardScaler()\n",
    "      X_train = scaler.fit_transform(X_train)\n",
    "      X_test = scaler.transform(X_test)\n",
    "      # CLASSIFIER\n",
    "      clf = sklearn.linear_model.LogisticRegression(solver='liblinear',C=clf_c)\n",
    "      clf.fit(X_train,Y_train)\n",
    "      yhat_full = clf.predict_proba(X_test)\n",
    "      # split eval of test TRs into two weddings\n",
    "      # and plot proba of correct schema\n",
    "      yhat_first = yhat_full[:int(len(yhat_full)/2),Y_test[0]]\n",
    "      yhat_second = yhat_full[int(len(yhat_full)/2):,Y_test[-1]]\n",
    "      yhat_L.append(yhat_first)\n",
    "      yhat_L.append(yhat_second)\n",
    "  return np.array(yhat_L)\n"
   ]
  },
  {
   "cell_type": "code",
   "execution_count": 14,
   "metadata": {
    "scrolled": true
   },
   "outputs": [
    {
     "name": "stdout",
     "output_type": "stream",
     "text": [
      "1\n",
      "failed to load sub_roi, S= 1 roi= rglasser_PM_net\n",
      "2\n",
      "failed to load sub_roi, S= 2 roi= rglasser_PM_net\n",
      "3\n",
      "failed to load sub_roi, S= 3 roi= rglasser_PM_net\n",
      "4\n",
      "failed to load sub_roi, S= 4 roi= rglasser_PM_net\n",
      "5\n",
      "failed to load sub_roi, S= 5 roi= rglasser_PM_net\n",
      "6\n",
      "failed to load sub_roi, S= 6 roi= rglasser_PM_net\n",
      "7\n",
      "failed to load sub_roi, S= 7 roi= rglasser_PM_net\n",
      "8\n",
      "failed to load sub_roi, S= 8 roi= rglasser_PM_net\n",
      "9\n",
      "failed to load sub_roi, S= 9 roi= rglasser_PM_net\n",
      "10\n",
      "failed to load sub_roi, S= 10 roi= rglasser_PM_net\n",
      "11\n",
      "failed to load sub_roi, S= 11 roi= rglasser_PM_net\n",
      "12\n",
      "failed to load sub_roi, S= 12 roi= rglasser_PM_net\n",
      "13\n",
      "failed to load sub_roi, S= 13 roi= rglasser_PM_net\n",
      "14\n",
      "failed to load sub_roi, S= 14 roi= rglasser_PM_net\n",
      "15\n",
      "failed to load sub_roi, S= 15 roi= rglasser_PM_net\n",
      "16\n",
      "failed to load sub_roi, S= 16 roi= rglasser_PM_net\n",
      "17\n",
      "failed to load sub_roi, S= 17 roi= rglasser_PM_net\n",
      "18\n",
      "failed to load sub_roi, S= 18 roi= rglasser_PM_net\n",
      "19\n",
      "failed to load sub_roi, S= 19 roi= rglasser_PM_net\n",
      "20\n",
      "failed to load sub_roi, S= 20 roi= rglasser_PM_net\n",
      "21\n",
      "failed to load sub_roi, S= 21 roi= rglasser_PM_net\n",
      "22\n",
      "failed to load sub_roi, S= 22 roi= rglasser_PM_net\n",
      "23\n",
      "failed to load sub_roi, S= 23 roi= rglasser_PM_net\n",
      "24\n",
      "failed to load sub_roi, S= 24 roi= rglasser_PM_net\n",
      "25\n",
      "failed to load sub_roi, S= 25 roi= rglasser_PM_net\n",
      "26\n",
      "failed to load sub_roi, S= 26 roi= rglasser_PM_net\n",
      "27\n",
      "failed to load sub_roi, S= 27 roi= rglasser_PM_net\n",
      "28\n",
      "failed to load sub_roi, S= 28 roi= rglasser_PM_net\n",
      "29\n",
      "failed to load sub_roi, S= 29 roi= rglasser_PM_net\n",
      "30\n",
      "test [0, 1] train [2, 3, 4, 5, 6, 7, 8, 9, 10, 11]\n",
      "test [2, 3] train [0, 1, 4, 5, 6, 7, 8, 9, 10, 11]\n",
      "test [4, 5] train [0, 1, 2, 3, 6, 7, 8, 9, 10, 11]\n",
      "test [6, 7] train [0, 1, 2, 3, 4, 5, 8, 9, 10, 11]\n",
      "test [8, 9] train [0, 1, 2, 3, 4, 5, 6, 7, 10, 11]\n",
      "test [10, 11] train [0, 1, 2, 3, 4, 5, 6, 7, 8, 9]\n",
      "31\n",
      "test [0, 1] train [2, 3, 4, 5, 6, 7, 8, 9, 10, 11]\n",
      "test [2, 3] train [0, 1, 4, 5, 6, 7, 8, 9, 10, 11]\n",
      "test [4, 5] train [0, 1, 2, 3, 6, 7, 8, 9, 10, 11]\n",
      "test [6, 7] train [0, 1, 2, 3, 4, 5, 8, 9, 10, 11]\n",
      "test [8, 9] train [0, 1, 2, 3, 4, 5, 6, 7, 10, 11]\n",
      "test [10, 11] train [0, 1, 2, 3, 4, 5, 6, 7, 8, 9]\n",
      "32\n",
      "test [0, 1] train [2, 3, 4, 5, 6, 7, 8, 9, 10, 11]\n",
      "test [2, 3] train [0, 1, 4, 5, 6, 7, 8, 9, 10, 11]\n",
      "test [4, 5] train [0, 1, 2, 3, 6, 7, 8, 9, 10, 11]\n",
      "test [6, 7] train [0, 1, 2, 3, 4, 5, 8, 9, 10, 11]\n",
      "test [8, 9] train [0, 1, 2, 3, 4, 5, 6, 7, 10, 11]\n",
      "test [10, 11] train [0, 1, 2, 3, 4, 5, 6, 7, 8, 9]\n",
      "33\n",
      "test [0, 1] train [2, 3, 4, 5, 6, 7, 8, 9, 10, 11]\n",
      "test [2, 3] train [0, 1, 4, 5, 6, 7, 8, 9, 10, 11]\n",
      "test [4, 5] train [0, 1, 2, 3, 6, 7, 8, 9, 10, 11]\n",
      "test [6, 7] train [0, 1, 2, 3, 4, 5, 8, 9, 10, 11]\n",
      "test [8, 9] train [0, 1, 2, 3, 4, 5, 6, 7, 10, 11]\n",
      "test [10, 11] train [0, 1, 2, 3, 4, 5, 6, 7, 8, 9]\n",
      "34\n",
      "test [0, 1] train [2, 3, 4, 5, 6, 7, 8, 9, 10, 11]\n",
      "test [2, 3] train [0, 1, 4, 5, 6, 7, 8, 9, 10, 11]\n",
      "test [4, 5] train [0, 1, 2, 3, 6, 7, 8, 9, 10, 11]\n",
      "test [6, 7] train [0, 1, 2, 3, 4, 5, 8, 9, 10, 11]\n",
      "test [8, 9] train [0, 1, 2, 3, 4, 5, 6, 7, 10, 11]\n",
      "test [10, 11] train [0, 1, 2, 3, 4, 5, 6, 7, 8, 9]\n",
      "35\n",
      "test [0, 1] train [2, 3, 4, 5, 6, 7, 8, 9, 10, 11]\n",
      "test [2, 3] train [0, 1, 4, 5, 6, 7, 8, 9, 10, 11]\n",
      "test [4, 5] train [0, 1, 2, 3, 6, 7, 8, 9, 10, 11]\n",
      "test [6, 7] train [0, 1, 2, 3, 4, 5, 8, 9, 10, 11]\n",
      "test [8, 9] train [0, 1, 2, 3, 4, 5, 6, 7, 10, 11]\n",
      "test [10, 11] train [0, 1, 2, 3, 4, 5, 6, 7, 8, 9]\n",
      "36\n",
      "test [0, 1] train [2, 3, 4, 5, 6, 7, 8, 9, 10, 11]\n",
      "test [2, 3] train [0, 1, 4, 5, 6, 7, 8, 9, 10, 11]\n",
      "test [4, 5] train [0, 1, 2, 3, 6, 7, 8, 9, 10, 11]\n",
      "test [6, 7] train [0, 1, 2, 3, 4, 5, 8, 9, 10, 11]\n",
      "test [8, 9] train [0, 1, 2, 3, 4, 5, 6, 7, 10, 11]\n",
      "test [10, 11] train [0, 1, 2, 3, 4, 5, 6, 7, 8, 9]\n",
      "37\n",
      "failed to load sub_roi, S= 37 roi= rglasser_PM_net\n",
      "38\n",
      "test [0, 1] train [2, 3, 4, 5, 6, 7, 8, 9, 10, 11]\n",
      "test [2, 3] train [0, 1, 4, 5, 6, 7, 8, 9, 10, 11]\n",
      "test [4, 5] train [0, 1, 2, 3, 6, 7, 8, 9, 10, 11]\n",
      "test [6, 7] train [0, 1, 2, 3, 4, 5, 8, 9, 10, 11]\n",
      "test [8, 9] train [0, 1, 2, 3, 4, 5, 6, 7, 10, 11]\n",
      "test [10, 11] train [0, 1, 2, 3, 4, 5, 6, 7, 8, 9]\n",
      "39\n",
      "failed to load sub_roi, S= 39 roi= rglasser_PM_net\n",
      "40\n",
      "failed to load sub_roi, S= 40 roi= rglasser_PM_net\n",
      "41\n",
      "failed to load sub_roi, S= 41 roi= rglasser_PM_net\n",
      "42\n",
      "failed to load sub_roi, S= 42 roi= rglasser_PM_net\n",
      "43\n",
      "failed to load sub_roi, S= 43 roi= rglasser_PM_net\n",
      "44\n",
      "failed to load sub_roi, S= 44 roi= rglasser_PM_net\n"
     ]
    },
    {
     "data": {
      "text/plain": [
       "(96, 72)"
      ]
     },
     "execution_count": 14,
     "metadata": {},
     "output_type": "execute_result"
    }
   ],
   "source": [
    "## compute mean\n",
    "roi_name = 'rglasser_PM_net'\n",
    "clf_c = 1.0\n",
    "yhat = xval(roi_name=roi_name,clf_c=clf_c)\n",
    "yhat.shape"
   ]
  },
  {
   "cell_type": "code",
   "execution_count": 15,
   "metadata": {},
   "outputs": [],
   "source": [
    "M = yhat.mean(0)\n",
    "S = yhat.std(0) / np.sqrt(len(yhat))"
   ]
  },
  {
   "cell_type": "code",
   "execution_count": 16,
   "metadata": {},
   "outputs": [
    {
     "data": {
      "image/png": "[encoded data removed]",
      "text/plain": [
       "<Figure size 432x288 with 1 Axes>"
      ]
     },
     "metadata": {
      "needs_background": "light"
     },
     "output_type": "display_data"
    }
   ],
   "source": [
    "## plt\n",
    "ax = plt.gca()\n",
    "ax.plot(M)\n",
    "ax.fill_between(np.arange(len(M)),M-S,M+S,alpha=.3)\n",
    "ax.axhline(0.5,c='k',ls='--')\n",
    "ax.set_ylim(0.2,0.8)\n",
    "ax.set_title('roi-%s_C_%.4f'%(roi_name,clf_c))\n",
    "plt.savefig('figures/NvS_logreg_roi-%s_C%.4f-nsubs_%i.png'%(roi_name,clf_c,int(len(M)/12)))"
   ]
  },
  {
   "cell_type": "code",
   "execution_count": null,
   "metadata": {},
   "outputs": [],
   "source": [
    "\n"
   ]
  }
 ],
 "metadata": {
  "kernelspec": {
   "display_name": "Python 3",
   "language": "python",
   "name": "python3"
  },
  "language_info": {
   "codemirror_mode": {
    "name": "ipython",
    "version": 3
   },
   "file_extension": ".py",
   "mimetype": "text/x-python",
   "name": "python",
   "nbconvert_exporter": "python",
   "pygments_lexer": "ipython3",
   "version": "3.6.12"
  }
 },
 "nbformat": 4,
 "nbformat_minor": 2
}
