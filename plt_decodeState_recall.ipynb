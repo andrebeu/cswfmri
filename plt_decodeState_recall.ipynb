{
 "cells": [
  {
   "cell_type": "code",
   "execution_count": 24,
   "metadata": {},
   "outputs": [],
   "source": [
    "import numpy as np\n",
    "import pandas as pd\n",
    "import itertools\n",
    "import matplotlib.pyplot as plt\n",
    "import seaborn as sns\n",
    "\n",
    "import sklearn\n",
    "import brainiak\n",
    "import nilearn as nl\n",
    "from nilearn import image, plotting, input_data\n",
    "from glob import glob as glob"
   ]
  },
  {
   "cell_type": "markdown",
   "metadata": {},
   "source": [
    "# load results df"
   ]
  },
  {
   "cell_type": "code",
   "execution_count": 10,
   "metadata": {},
   "outputs": [],
   "source": [
    "fpath = 'data/analyses/decodeState_trainView_testRecall.csv'\n",
    "results = pd.read_csv(fpath,index_col=0)"
   ]
  },
  {
   "cell_type": "code",
   "execution_count": 56,
   "metadata": {},
   "outputs": [
    {
     "data": {
      "text/plain": [
       "[0, 1, 2, 11, 15, 16, 20, 21, 37, 39]"
      ]
     },
     "execution_count": 56,
     "metadata": {},
     "output_type": "execute_result"
    }
   ],
   "source": [
    "\"\"\" \n",
    "subjects not in analysis \n",
    "\"\"\"\n",
    "missing_subs_L = []\n",
    "for i in np.arange(45):\n",
    "  if i not in results.sub_num.unique():\n",
    "    missing_subs_L.append(i)\n",
    "missing_subs_L"
   ]
  },
  {
   "cell_type": "markdown",
   "metadata": {},
   "source": [
    "# accuracy bar plots"
   ]
  },
  {
   "cell_type": "code",
   "execution_count": 52,
   "metadata": {},
   "outputs": [
    {
     "name": "stdout",
     "output_type": "stream",
     "text": [
      "group M=0.52, S=0.0038\n"
     ]
    }
   ],
   "source": [
    "M = results.score.mean()\n",
    "N = results.num_test_samples.sum()\n",
    "S = results.score.std()/np.sqrt(N)\n",
    "\n",
    "print('group M=%.2f, S=%.4f'%(M,S))"
   ]
  },
  {
   "cell_type": "code",
   "execution_count": 43,
   "metadata": {},
   "outputs": [
    {
     "data": {
      "text/plain": [
       "<matplotlib.lines.Line2D at 0x12a02f630>"
      ]
     },
     "execution_count": 43,
     "metadata": {},
     "output_type": "execute_result"
    },
    {
     "data": {
      "image/png": "[encoded data removed]",
      "text/plain": [
       "<Figure size 432x288 with 1 Axes>"
      ]
     },
     "metadata": {
      "needs_background": "light"
     },
     "output_type": "display_data"
    }
   ],
   "source": [
    "subM = results.groupby('sub_num').mean().score\n",
    "subN = results.groupby('sub_num').sum().num_test_samples\n",
    "subS = results.groupby('sub_num').std().score/np.sqrt(subN)\n",
    "\n",
    "plt.bar(range(len(subM)),subM,yerr=subS)\n",
    "plt.axhline(0.5,c='r',ls='--')"
   ]
  },
  {
   "cell_type": "code",
   "execution_count": 37,
   "metadata": {
    "scrolled": true
   },
   "outputs": [
    {
     "data": {
      "text/plain": [
       "<matplotlib.lines.Line2D at 0x1296bc6a0>"
      ]
     },
     "execution_count": 37,
     "metadata": {},
     "output_type": "execute_result"
    },
    {
     "data": {
      "image/png": "[encoded data removed]",
      "text/plain": [
       "<Figure size 432x288 with 1 Axes>"
      ]
     },
     "metadata": {
      "needs_background": "light"
     },
     "output_type": "display_data"
    }
   ],
   "source": [
    "layerM = results.groupby('layer').mean().score\n",
    "layerN = results.groupby('layer').sum().num_test_samples\n",
    "layerS = results.groupby('layer').std().score/np.sqrt(layerN)\n",
    "\n",
    "plt.bar(range(len(layerM)),layerM,yerr=layerS)\n",
    "plt.ylim(0.4,0.6)\n",
    "plt.axhline(0.5,c='r',ls='--')"
   ]
  }
 ],
 "metadata": {
  "kernelspec": {
   "display_name": "Python 3",
   "language": "python",
   "name": "python3"
  },
  "language_info": {
   "codemirror_mode": {
    "name": "ipython",
    "version": 3
   },
   "file_extension": ".py",
   "mimetype": "text/x-python",
   "name": "python",
   "nbconvert_exporter": "python",
   "pygments_lexer": "ipython3",
   "version": "3.6.12"
  }
 },
 "nbformat": 4,
 "nbformat_minor": 4
}
