{
 "cells": [
  {
   "cell_type": "code",
   "execution_count": 2,
   "metadata": {},
   "outputs": [],
   "source": [
    "import numpy as np\n",
    "import pandas as pd\n",
    "import itertools\n",
    "import matplotlib.pyplot as plt\n",
    "import seaborn as sns\n",
    "\n",
    "import sklearn\n",
    "import brainiak\n",
    "import nilearn as nl\n",
    "from nilearn import image, plotting, input_data\n",
    "from glob import glob as glob"
   ]
  },
  {
   "cell_type": "markdown",
   "metadata": {},
   "source": [
    "# load results df"
   ]
  },
  {
   "cell_type": "code",
   "execution_count": 9,
   "metadata": {},
   "outputs": [],
   "source": [
    "results_file = 'decodeState_trainView_testRecall-split_by_schema-N36.csv'\n",
    "fpath = 'data/analyses/' + results_file\n",
    "results = pd.read_csv(fpath,index_col=0)"
   ]
  },
  {
   "cell_type": "code",
   "execution_count": 12,
   "metadata": {},
   "outputs": [
    {
     "data": {
      "text/html": [
       "<div>\n",
       "<style scoped>\n",
       "    .dataframe tbody tr th:only-of-type {\n",
       "        vertical-align: middle;\n",
       "    }\n",
       "\n",
       "    .dataframe tbody tr th {\n",
       "        vertical-align: top;\n",
       "    }\n",
       "\n",
       "    .dataframe thead th {\n",
       "        text-align: right;\n",
       "    }\n",
       "</style>\n",
       "<table border=\"1\" class=\"dataframe\">\n",
       "  <thead>\n",
       "    <tr style=\"text-align: right;\">\n",
       "      <th></th>\n",
       "      <th>layer</th>\n",
       "      <th>num_test_samples</th>\n",
       "      <th>roi</th>\n",
       "      <th>schema_test</th>\n",
       "      <th>schema_train</th>\n",
       "      <th>score</th>\n",
       "      <th>sub_num</th>\n",
       "    </tr>\n",
       "  </thead>\n",
       "  <tbody>\n",
       "    <tr>\n",
       "      <th>0</th>\n",
       "      <td>2</td>\n",
       "      <td>20</td>\n",
       "      <td>SnPM_filtered_FDR</td>\n",
       "      <td>N</td>\n",
       "      <td>N</td>\n",
       "      <td>0.350000</td>\n",
       "      <td>3</td>\n",
       "    </tr>\n",
       "    <tr>\n",
       "      <th>1</th>\n",
       "      <td>3</td>\n",
       "      <td>5</td>\n",
       "      <td>SnPM_filtered_FDR</td>\n",
       "      <td>N</td>\n",
       "      <td>N</td>\n",
       "      <td>0.000000</td>\n",
       "      <td>3</td>\n",
       "    </tr>\n",
       "    <tr>\n",
       "      <th>2</th>\n",
       "      <td>4</td>\n",
       "      <td>22</td>\n",
       "      <td>SnPM_filtered_FDR</td>\n",
       "      <td>N</td>\n",
       "      <td>N</td>\n",
       "      <td>0.590909</td>\n",
       "      <td>3</td>\n",
       "    </tr>\n",
       "    <tr>\n",
       "      <th>3</th>\n",
       "      <td>2</td>\n",
       "      <td>40</td>\n",
       "      <td>SnPM_filtered_FDR</td>\n",
       "      <td>S</td>\n",
       "      <td>N</td>\n",
       "      <td>0.575000</td>\n",
       "      <td>3</td>\n",
       "    </tr>\n",
       "    <tr>\n",
       "      <th>4</th>\n",
       "      <td>3</td>\n",
       "      <td>29</td>\n",
       "      <td>SnPM_filtered_FDR</td>\n",
       "      <td>S</td>\n",
       "      <td>N</td>\n",
       "      <td>0.344828</td>\n",
       "      <td>3</td>\n",
       "    </tr>\n",
       "    <tr>\n",
       "      <th>...</th>\n",
       "      <td>...</td>\n",
       "      <td>...</td>\n",
       "      <td>...</td>\n",
       "      <td>...</td>\n",
       "      <td>...</td>\n",
       "      <td>...</td>\n",
       "      <td>...</td>\n",
       "    </tr>\n",
       "    <tr>\n",
       "      <th>2191</th>\n",
       "      <td>3</td>\n",
       "      <td>4</td>\n",
       "      <td>rhippocampusAAL</td>\n",
       "      <td>N</td>\n",
       "      <td>S</td>\n",
       "      <td>0.750000</td>\n",
       "      <td>44</td>\n",
       "    </tr>\n",
       "    <tr>\n",
       "      <th>2192</th>\n",
       "      <td>4</td>\n",
       "      <td>12</td>\n",
       "      <td>rhippocampusAAL</td>\n",
       "      <td>N</td>\n",
       "      <td>S</td>\n",
       "      <td>0.083333</td>\n",
       "      <td>44</td>\n",
       "    </tr>\n",
       "    <tr>\n",
       "      <th>2193</th>\n",
       "      <td>2</td>\n",
       "      <td>13</td>\n",
       "      <td>rhippocampusAAL</td>\n",
       "      <td>S</td>\n",
       "      <td>S</td>\n",
       "      <td>0.461538</td>\n",
       "      <td>44</td>\n",
       "    </tr>\n",
       "    <tr>\n",
       "      <th>2194</th>\n",
       "      <td>3</td>\n",
       "      <td>4</td>\n",
       "      <td>rhippocampusAAL</td>\n",
       "      <td>S</td>\n",
       "      <td>S</td>\n",
       "      <td>0.500000</td>\n",
       "      <td>44</td>\n",
       "    </tr>\n",
       "    <tr>\n",
       "      <th>2195</th>\n",
       "      <td>4</td>\n",
       "      <td>14</td>\n",
       "      <td>rhippocampusAAL</td>\n",
       "      <td>S</td>\n",
       "      <td>S</td>\n",
       "      <td>0.428571</td>\n",
       "      <td>44</td>\n",
       "    </tr>\n",
       "  </tbody>\n",
       "</table>\n",
       "<p>2196 rows × 7 columns</p>\n",
       "</div>"
      ],
      "text/plain": [
       "      layer  num_test_samples                roi schema_test schema_train  \\\n",
       "0         2                20  SnPM_filtered_FDR           N            N   \n",
       "1         3                 5  SnPM_filtered_FDR           N            N   \n",
       "2         4                22  SnPM_filtered_FDR           N            N   \n",
       "3         2                40  SnPM_filtered_FDR           S            N   \n",
       "4         3                29  SnPM_filtered_FDR           S            N   \n",
       "...     ...               ...                ...         ...          ...   \n",
       "2191      3                 4    rhippocampusAAL           N            S   \n",
       "2192      4                12    rhippocampusAAL           N            S   \n",
       "2193      2                13    rhippocampusAAL           S            S   \n",
       "2194      3                 4    rhippocampusAAL           S            S   \n",
       "2195      4                14    rhippocampusAAL           S            S   \n",
       "\n",
       "         score  sub_num  \n",
       "0     0.350000        3  \n",
       "1     0.000000        3  \n",
       "2     0.590909        3  \n",
       "3     0.575000        3  \n",
       "4     0.344828        3  \n",
       "...        ...      ...  \n",
       "2191  0.750000       44  \n",
       "2192  0.083333       44  \n",
       "2193  0.461538       44  \n",
       "2194  0.500000       44  \n",
       "2195  0.428571       44  \n",
       "\n",
       "[2196 rows x 7 columns]"
      ]
     },
     "execution_count": 12,
     "metadata": {},
     "output_type": "execute_result"
    }
   ],
   "source": [
    "results"
   ]
  },
  {
   "cell_type": "code",
   "execution_count": 21,
   "metadata": {},
   "outputs": [
    {
     "data": {
      "image/png": "[encoded data removed]",
      "text/plain": [
       "<Figure size 1440x720 with 1 Axes>"
      ]
     },
     "metadata": {
      "needs_background": "light"
     },
     "output_type": "display_data"
    }
   ],
   "source": [
    "plt.figure(figsize=(20,10))\n",
    "sch_train = 'N'\n",
    "sch_test = 'N'\n",
    "train_bool = (results.schema_train == sch_train)\n",
    "test_bool = (results.schema_test == sch_test)\n",
    "results_group = results[train_bool & test_bool].groupby(['roi','layer'])\n",
    "M = results_group.score.mean()\n",
    "N = len(results.sub_num.unique())\n",
    "S = 2*(results_group.score.std()/np.sqrt(N))\n",
    "ax = plt.gca()\n",
    "cL= np.tile(['r','g','b'],6)\n",
    "ax.bar(range(len(M)),M,yerr=S,color=cL)\n",
    "ax.set_ylim(0.42,.58)\n",
    "ax.axhline(0.5,c='r',lw=.4)\n",
    "labels = results_group.mean().index.values\n",
    "ax.set_xticks(np.arange(len(labels)))\n",
    "ax.set_xticklabels(labels,rotation=70)\n",
    "ax.set_title('train %s test %s'%(sch_train,sch_test))\n",
    "plt.savefig('figures/'+results_file.split('.')[0]+'-train%stest%s'%(sch_train,sch_test))\n"
   ]
  },
  {
   "cell_type": "markdown",
   "metadata": {},
   "source": [
    "# without motion regress \n",
    "- broken"
   ]
  },
  {
   "cell_type": "code",
   "execution_count": 6,
   "metadata": {},
   "outputs": [
    {
     "name": "stdout",
     "output_type": "stream",
     "text": [
      "group M=0.50, S=0.0001\n"
     ]
    }
   ],
   "source": [
    "M = results.score.mean()\n",
    "N = results.num_test_samples.sum()\n",
    "S = results.score.std()/np.sqrt(N)\n",
    "\n",
    "print('group M=%.2f, S=%.4f'%(M,S))"
   ]
  },
  {
   "cell_type": "code",
   "execution_count": 7,
   "metadata": {},
   "outputs": [
    {
     "data": {
      "text/plain": [
       "<matplotlib.lines.Line2D at 0x109bcd080>"
      ]
     },
     "execution_count": 7,
     "metadata": {},
     "output_type": "execute_result"
    },
    {
     "data": {
      "image/png": "[encoded data removed]",
      "text/plain": [
       "<Figure size 432x288 with 1 Axes>"
      ]
     },
     "metadata": {
      "needs_background": "light"
     },
     "output_type": "display_data"
    }
   ],
   "source": [
    "subM = results.groupby('sub_num').mean().score\n",
    "subN = results.groupby('sub_num').sum().num_test_samples\n",
    "subS = results.groupby('sub_num').std().score/np.sqrt(subN)\n",
    "\n",
    "plt.bar(range(len(subM)),subM,yerr=subS)\n",
    "plt.axhline(0.5,c='r',ls='--')"
   ]
  },
  {
   "cell_type": "code",
   "execution_count": 37,
   "metadata": {
    "scrolled": true
   },
   "outputs": [
    {
     "data": {
      "text/plain": [
       "<matplotlib.lines.Line2D at 0x1296bc6a0>"
      ]
     },
     "execution_count": 37,
     "metadata": {},
     "output_type": "execute_result"
    },
    {
     "data": {
      "image/png": "[encoded data removed]",
      "text/plain": [
       "<Figure size 432x288 with 1 Axes>"
      ]
     },
     "metadata": {
      "needs_background": "light"
     },
     "output_type": "display_data"
    }
   ],
   "source": [
    "layerM = results.groupby('layer').mean().score\n",
    "layerN = results.groupby('layer').sum().num_test_samples\n",
    "layerS = results.groupby('layer').std().score/np.sqrt(layerN)\n",
    "\n",
    "plt.bar(range(len(layerM)),layerM,yerr=layerS)\n",
    "plt.ylim(0.4,0.6)\n",
    "plt.axhline(0.5,c='r',ls='--')"
   ]
  },
  {
   "cell_type": "code",
   "execution_count": 56,
   "metadata": {},
   "outputs": [
    {
     "data": {
      "text/plain": [
       "[0, 1, 2, 11, 15, 16, 20, 21, 37, 39]"
      ]
     },
     "execution_count": 56,
     "metadata": {},
     "output_type": "execute_result"
    }
   ],
   "source": [
    "\"\"\" \n",
    "subjects not in analysis \n",
    "\"\"\"\n",
    "missing_subs_L = []\n",
    "for i in np.arange(45):\n",
    "  if i not in results.sub_num.unique():\n",
    "    missing_subs_L.append(i)\n",
    "missing_subs_L"
   ]
  }
 ],
 "metadata": {
  "kernelspec": {
   "display_name": "Python 3",
   "language": "python",
   "name": "python3"
  },
  "language_info": {
   "codemirror_mode": {
    "name": "ipython",
    "version": 3
   },
   "file_extension": ".py",
   "mimetype": "text/x-python",
   "name": "python",
   "nbconvert_exporter": "python",
   "pygments_lexer": "ipython3",
   "version": "3.6.12"
  }
 },
 "nbformat": 4,
 "nbformat_minor": 4
}
