{
 "cells": [
  {
   "cell_type": "code",
   "execution_count": 2,
   "metadata": {},
   "outputs": [],
   "source": [
    "import numpy as np\n",
    "import pandas as pd\n",
    "import matplotlib.pyplot as plt\n",
    "\n",
    "import sklearn\n",
    "import brainiak\n",
    "import nilearn as nl\n",
    "from nilearn import image, plotting, input_data\n",
    "\n",
    "from scipy.spatial import distance\n",
    "\n",
    "from utils import *"
   ]
  },
  {
   "cell_type": "code",
   "execution_count": 9,
   "metadata": {},
   "outputs": [],
   "source": [
    "from sklearn.linear_model import LogisticRegression"
   ]
  },
  {
   "cell_type": "markdown",
   "metadata": {},
   "source": [
    "# load roi"
   ]
  },
  {
   "cell_type": "code",
   "execution_count": 7,
   "metadata": {},
   "outputs": [],
   "source": [
    "def load_sub_roi(sub_n,roi_name):\n",
    "  fpath = \"sub-%i_%s.npy\"%(sub_n,roi_name)\n",
    "  return np.load('fmri_data/masked/'+fpath)\n",
    "\n",
    "def load_group_roi(roi_name,max_len=1160):\n",
    "  L = []\n",
    "  for sub_n in SUB_NS:\n",
    "    sub_roi = load_sub_roi(sub_n,roi_name)\n",
    "    print(sub_roi.shape)\n",
    "    L.append(sub_roi[:max_len,:])\n",
    "  return np.array(L)"
   ]
  },
  {
   "cell_type": "code",
   "execution_count": 12,
   "metadata": {},
   "outputs": [
    {
     "name": "stdout",
     "output_type": "stream",
     "text": [
      "(1168, 868)\n",
      "(1166, 868)\n",
      "(1168, 868)\n",
      "(1167, 868)\n",
      "(1166, 868)\n",
      "(1168, 868)\n",
      "(1166, 868)\n",
      "(1167, 868)\n",
      "(1166, 868)\n"
     ]
    }
   ],
   "source": [
    "group_roi = load_group_roi(ROI_NAME_L[0])"
   ]
  }
 ],
 "metadata": {
  "kernelspec": {
   "display_name": "Python 3",
   "language": "python",
   "name": "python3"
  },
  "language_info": {
   "codemirror_mode": {
    "name": "ipython",
    "version": 3
   },
   "file_extension": ".py",
   "mimetype": "text/x-python",
   "name": "python",
   "nbconvert_exporter": "python",
   "pygments_lexer": "ipython3",
   "version": "3.6.12"
  }
 },
 "nbformat": 4,
 "nbformat_minor": 2
}
