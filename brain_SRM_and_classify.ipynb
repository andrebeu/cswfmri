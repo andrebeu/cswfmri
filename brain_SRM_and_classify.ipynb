{
 "cells": [
  {
   "cell_type": "code",
   "execution_count": 1,
   "metadata": {},
   "outputs": [],
   "source": [
    "import numpy as np\n",
    "import pandas as pd\n",
    "import matplotlib.pyplot as plt\n",
    "\n",
    "import sklearn\n",
    "import brainiak\n",
    "import nilearn as nl\n",
    "from nilearn import image, plotting, input_data\n",
    "\n",
    "from scipy.spatial import distance\n",
    "\n",
    "from utils import *"
   ]
  },
  {
   "cell_type": "code",
   "execution_count": 2,
   "metadata": {},
   "outputs": [],
   "source": [
    "from sklearn.linear_model import LogisticRegression"
   ]
  },
  {
   "cell_type": "markdown",
   "metadata": {},
   "source": [
    "classifier evidence over time for each subject / wedding\n",
    "- train\n",
    "- eval"
   ]
  },
  {
   "cell_type": "code",
   "execution_count": 3,
   "metadata": {},
   "outputs": [],
   "source": [
    "def read_logfile(sub_num):\n",
    "  \"\"\" \n",
    "  read psychopy logifle into dataframe\n",
    "  \"\"\"\n",
    "  # initialize dataframe\n",
    "  df = pd.DataFrame(columns=['tstamp','logtype','logdata'])\n",
    "  # open logfile\n",
    "  fpath = 'behav/silvy_buckets/sub1%iday2/%i_viewing.log'%(sub_num,sub_num)\n",
    "  f = open(fpath, \"r\")\n",
    "  # loop over logfile rows\n",
    "  first_TR_bool = True\n",
    "  for x in f:\n",
    "    tstamp,B,C = x.split('\\t')\n",
    "    tstamp = float(tstamp)\n",
    "    # correct tstamp relative to first TR\n",
    "    if first_TR_bool and C == 'Keypress: equal\\n':\n",
    "      first_TR_bool = False\n",
    "      first_TR_tstamp = tstamp\n",
    "    df.loc[tstamp,'logtype'] = B[:-1]\n",
    "    df.loc[tstamp,'logdata'] = C[:-1]\n",
    "    df.loc[tstamp,'tstamp'] = tstamp\n",
    "  return df,first_TR_tstamp\n",
    "\n",
    "def reformat_index(df,first_TR_tstamp,TR_rate=1.5):\n",
    "  \"\"\"\n",
    "  include TR column\n",
    "  reset timestamps relative to first TR\n",
    "  reindex by row number\n",
    "  \"\"\"\n",
    "  # add TR column\n",
    "  df['TR'] = int(0)\n",
    "  # reindex relative to first TR\n",
    "  df.index = df.index - first_TR_tstamp \n",
    "  # include TR column\n",
    "  df.loc[:,'TR'] = np.floor(df.index /TR_rate).astype(int)\n",
    "  # remove negative TRs\n",
    "  df = df[df.TR >= 0 ]\n",
    "  # reindex by row number \n",
    "  df.index = np.arange(len(df))\n",
    "  return df\n",
    "  \n",
    "def include_state_column(df):\n",
    "  \"\"\" \n",
    "  include column \"state\" which indicates which stimulus is being shown\n",
    "  ** NB first and last wedding not included (10/12 weddings labeled)\n",
    "  \"\"\"\n",
    "  df['state'] = np.nan\n",
    "  vid_strL = ['vid1a','vid1b','vid2','vid3','vid4','vid5']\n",
    "  for vid_str0,vid_str1 in zip(vid_strL[:-1],vid_strL[1:]):\n",
    "    vid_start_idx = df[df.logdata == '%s: autoDraw = True'%vid_str0].index\n",
    "    vid_end_idx = df[df.logdata == '%s: autoDraw = True'%vid_str1].index\n",
    "    for trial_num in range(10):\n",
    "      df.loc[vid_start_idx[trial_num]:vid_end_idx[trial_num],'state']=vid_str0\n",
    "  return df\n",
    "\n",
    "def include_wed_and_nors_columns(df):\n",
    "  \"\"\" \n",
    "  at the beginning of each trial, psychopy preloads the videos that will be shown in that trial\n",
    "  from the video .mp3 file names, I extract the wedding number and path\n",
    "  from the path I infer north-or-south\n",
    "  I then populate every row within that trial with these info\n",
    "  ** NB last wedding not included (11/12 weddings labeled)\n",
    "  \"\"\"\n",
    "  # North paths\n",
    "  path1 = ['1a','1b','2a','3a','4a','5']\n",
    "  path2 = ['1a','1b','2b','3b','4b','5']\n",
    "  # South paths\n",
    "  path3 = ['1a','1b','2a','3b','4a','5']\n",
    "  path4 = ['1a','1b','2b','3a','4b','5']\n",
    "  ## initialize columns\n",
    "  df['wed'] = 99\n",
    "  df['NorS'] = ''\n",
    "  ## find rows corresponding to trial start (preloading videos)\n",
    "  begin_trial_idxL = df[df.logdata.str[:len(\"Created vid1a = \")]==\"Created vid1a = \"].index\n",
    "  ## loop over trials\n",
    "  for begin_trial_idx,end_trial_idx in zip(begin_trial_idxL[:-1],begin_trial_idxL[1:]):\n",
    "    ## extract rows containing preloading, and use .str operations to clean\n",
    "    logdata_trial_info = df.iloc[begin_trial_idx:begin_trial_idx+6]\n",
    "    logdata_trial_info = logdata_trial_info.logdata.str.split(',').str[5].str.split('/').str[1]\n",
    "    ## further clean\n",
    "    wed_int = int(logdata_trial_info.str.split('.').str[0].values[0].split('-')[1])\n",
    "    path = logdata_trial_info.str.split('.').str[1].values\n",
    "    ## decide NorS label based on path\n",
    "    if np.array_equal(path,path1) or np.array_equal(path,path2):\n",
    "      NorS_str = 'N'\n",
    "    elif np.array_equal(path,path3) or np.array_equal(path,path4):\n",
    "      NorS_str = 'S'\n",
    "    else:\n",
    "      assert False\n",
    "    ## insert into dataframe\n",
    "    df.loc[begin_trial_idx:end_trial_idx,'wed'] = wed_int\n",
    "    df.loc[begin_trial_idx:end_trial_idx,'NorS'] = NorS_str\n",
    "  return df"
   ]
  },
  {
   "cell_type": "code",
   "execution_count": 4,
   "metadata": {
    "scrolled": true
   },
   "outputs": [],
   "source": [
    "def load_logdf(sub_num):\n",
    "  \"\"\" \n",
    "  wrapper for loading subject experiment timing info\n",
    "  ** NB excludes first and last wedding\n",
    "  \"\"\" \n",
    "  ## read psychopy log file into dataframe\n",
    "  df,first_TR_tstamp = read_logfile(sub_num)\n",
    "  ##\n",
    "  df = reformat_index(df,first_TR_tstamp)\n",
    "  ##\n",
    "  df = include_state_column(df)\n",
    "  ##\n",
    "  df = include_wed_and_nors_columns(df)\n",
    "  ## leave only TRs where wedding states are being shown\n",
    "  df = df[df.state.notna()]\n",
    "  return df"
   ]
  },
  {
   "cell_type": "code",
   "execution_count": 8,
   "metadata": {},
   "outputs": [],
   "source": [
    "sub_num = 33\n",
    "logdf = load_logdf(sub_num)\n"
   ]
  },
  {
   "cell_type": "markdown",
   "metadata": {},
   "source": [
    "# load roi"
   ]
  },
  {
   "cell_type": "code",
   "execution_count": 13,
   "metadata": {},
   "outputs": [],
   "source": [
    "def load_sub_roi(sub_num,task,roi_name):\n",
    "  fpath = \"sub-%i_task-%s_roi-%s.npy\" %(sub_num,task,roi_name)\n",
    "  return np.load('fmri_data/masked/'+fpath)"
   ]
  },
  {
   "cell_type": "code",
   "execution_count": 44,
   "metadata": {},
   "outputs": [],
   "source": [
    "def get_xval_split_info(logdf):\n",
    "  \"\"\"\n",
    "  returns \n",
    "    N_TR_train_L: TRs for training on North\n",
    "    S_TR_train_L: TRs for training on South\n",
    "    TR_test_L: TRs for testing\n",
    "    label_test_L: label for testing TRs\n",
    "  each is list len 10, containing the information for an iteration of xval \n",
    "  \"\"\"\n",
    "  ## hold out test wedding \n",
    "  wed_arr = logdf.wed.unique()\n",
    "  wed_arr = wed_arr[wed_arr!=99]\n",
    "\n",
    "  N_TR_train_L = []\n",
    "  S_TR_train_L = []\n",
    "  TR_test_L = []\n",
    "  label_test_L = []\n",
    "  \n",
    "  for wed_num_test in wed_arr:\n",
    "    ## training \n",
    "    # remove test wed from train_wed_arr\n",
    "    wed_arr_train = wed_arr[wed_arr!=wed_num_test]\n",
    "    # training subset of dataframe\n",
    "    logdf_train = logdf[logdf.wed.isin(wed_arr_train)]\n",
    "    # training TRs\n",
    "    N_TR_train = logdf_train[logdf_train.NorS=='N'].TR.unique()\n",
    "    S_TR_train = logdf_train[logdf_train.NorS=='S'].TR.unique()\n",
    "    N_TR_train_L.append(N_TR_train)\n",
    "    S_TR_train_L.append(S_TR_train)\n",
    "    ## testing TRs\n",
    "    logdf_test = logdf[(logdf.wed == wed_num_test)]\n",
    "    TR_test = logdf_test.TR.unique()\n",
    "    label_test = logdf_test.NorS.unique() \n",
    "    TR_test_L.append(TR_test)\n",
    "    label_test_L.append(label_test[0])\n",
    "  return N_TR_train_L,S_TR_train_L,TR_test_L,label_test_L\n",
    "  "
   ]
  },
  {
   "cell_type": "code",
   "execution_count": 60,
   "metadata": {},
   "outputs": [
    {
     "data": {
      "text/plain": [
       "['rsherlockAvg_fc_thr5_pmc',\n",
       " 'rsherlockAvg_fc_thr5_mpfc',\n",
       " 'rsherlockAvg_fc_thr5_lTPJ',\n",
       " 'rsherlockAvg_fc_thr5_rTPJ',\n",
       " 'rsherlockAvg_fc_thr5_lSFG',\n",
       " 'rsherlockAvg_fc_thr5_rSFG',\n",
       " 'rhippocampusL_AAL',\n",
       " 'rhippocampusR_AAL',\n",
       " 'rhippocampusAAL']"
      ]
     },
     "execution_count": 60,
     "metadata": {},
     "output_type": "execute_result"
    }
   ],
   "source": [
    "ROI_NAME_L"
   ]
  },
  {
   "cell_type": "code",
   "execution_count": 81,
   "metadata": {},
   "outputs": [
    {
     "name": "stdout",
     "output_type": "stream",
     "text": [
      "(60, 2)\n",
      "0.5666666666666667 1.0\n",
      "(63, 2)\n",
      "0.47619047619047616 1.0\n",
      "(65, 2)\n",
      "0.46153846153846156 1.0\n",
      "(64, 2)\n",
      "0.546875 1.0\n",
      "(66, 2)\n",
      "0.45454545454545453 1.0\n",
      "(66, 2)\n",
      "0.5 1.0\n",
      "(67, 2)\n",
      "0.5074626865671642 1.0\n",
      "(66, 2)\n",
      "0.4393939393939394 1.0\n",
      "(66, 2)\n",
      "0.5151515151515151 1.0\n",
      "(67, 2)\n",
      "0.4925373134328358 1.0\n"
     ]
    }
   ],
   "source": [
    "\"\"\" \n",
    "CLASSIFIER CROSS VALIDATION\n",
    "\"\"\"\n",
    "\n",
    "fdir = 'fmri_data/xval/sweep1/'\n",
    "task = 'videos'\n",
    "roi_name = 'rsherlockAvg_fc_thr5_pmc'\n",
    "\n",
    "for roi_name in ROI_NAME_L\n",
    "accL = []\n",
    "for sub_num in SUB_NS:\n",
    "  roi_act = load_sub_roi(sub_num,task,roi_name)\n",
    "  sub_accL = []\n",
    "  ## xval split\n",
    "  for N_TR_train,S_TR_train,TR_test,label_test in zip(*get_xval_split_info(logdf)):\n",
    "    # split roi act into train and test\n",
    "    roi_act_N_train = roi_act[N_TR_train,:]\n",
    "    roi_act_S_train = roi_act[S_TR_train,:]\n",
    "    roi_act_test = roi_act[TR_test,:]\n",
    "    # form classifier datasets\n",
    "    X_train = np.concatenate([roi_act_N_train,roi_act_S_train])\n",
    "    X_test = roi_act_test\n",
    "    Y_train = np.concatenate([np.ones(len(roi_act_N_train)),np.zeros(len(roi_act_S_train))])\n",
    "    Y_test = np.repeat(int(label_test == 'N'),len(X_test))\n",
    "    clf = sklearn.linear_model.LogisticRegression(solver='liblinear').fit(X_train,Y_train)\n",
    "    sub_accL.append(clf.score(X_test,Y_test))\n",
    "    yhat = clf.predict_proba(X_test)\n",
    "    print(clf.score(X_test,Y_test),clf.score(X_train,Y_train))\n",
    "  accL.append(sub_accL)\n",
    "\n",
    "fpath = fdir+'acc-%s'%roi_name\n",
    "np.save(fpath,np.array(accL))\n"
   ]
  },
  {
   "cell_type": "code",
   "execution_count": 266,
   "metadata": {},
   "outputs": [],
   "source": [
    "def mov_avg(X,w):\n",
    "  A = np.ones(len(X)-w)\n",
    "  for i in range(len(X)-w):\n",
    "    A[i] = X[i:i+w].mean()\n",
    "  return A"
   ]
  },
  {
   "cell_type": "code",
   "execution_count": 273,
   "metadata": {},
   "outputs": [],
   "source": [
    "yhat_pr = clf.predict_proba(roi_act)[:,1]\n",
    "yhat_plt = mov_avg(yhat_pr,30)"
   ]
  },
  {
   "cell_type": "code",
   "execution_count": 276,
   "metadata": {},
   "outputs": [
    {
     "data": {
      "text/plain": [
       "<matplotlib.lines.Line2D at 0x1255bf588>"
      ]
     },
     "execution_count": 276,
     "metadata": {},
     "output_type": "execute_result"
    },
    {
     "data": {
      "image/png": "[encoded data removed]",
      "text/plain": [
       "<Figure size 432x288 with 1 Axes>"
      ]
     },
     "metadata": {
      "needs_background": "light"
     },
     "output_type": "display_data"
    }
   ],
   "source": [
    "plt.plot(yhat_plt)\n",
    "plt.scatter(NTR,np.ones(len(NTR)),c='g')\n",
    "plt.scatter(STR,np.zeros(len(STR)),c='r')\n",
    "plt.axhline(0.5,c='k')"
   ]
  }
 ],
 "metadata": {
  "kernelspec": {
   "display_name": "Python 3",
   "language": "python",
   "name": "python3"
  },
  "language_info": {
   "codemirror_mode": {
    "name": "ipython",
    "version": 3
   },
   "file_extension": ".py",
   "mimetype": "text/x-python",
   "name": "python",
   "nbconvert_exporter": "python",
   "pygments_lexer": "ipython3",
   "version": "3.6.12"
  }
 },
 "nbformat": 4,
 "nbformat_minor": 2
}
