{
 "cells": [
  {
   "cell_type": "code",
   "execution_count": 1,
   "metadata": {},
   "outputs": [],
   "source": [
    "import numpy as np\n",
    "import pandas as pd\n",
    "import itertools\n",
    "import matplotlib.pyplot as plt\n",
    "\n",
    "import sklearn\n",
    "import brainiak\n",
    "import nilearn as nl\n",
    "from nilearn import image, plotting, input_data\n",
    "\n",
    "from scipy.spatial import distance\n",
    "\n",
    "from utils import *"
   ]
  },
  {
   "cell_type": "code",
   "execution_count": 2,
   "metadata": {},
   "outputs": [],
   "source": [
    "from sklearn.linear_model import LogisticRegression\n",
    "\n",
    "pd.options.display.max_rows = 200"
   ]
  },
  {
   "cell_type": "markdown",
   "metadata": {},
   "source": [
    "## TODO\n",
    "- for each subject / wedding, need to figure out if it is N-or-S"
   ]
  },
  {
   "cell_type": "markdown",
   "metadata": {},
   "source": [
    "# load"
   ]
  },
  {
   "cell_type": "code",
   "execution_count": null,
   "metadata": {},
   "outputs": [],
   "source": [
    "def include_wed_and_nors_columns(df):\n",
    "  \"\"\" \n",
    "  at the beginning of each trial, psychopy preloads the videos that will be shown in that trial\n",
    "  from the video .mp3 file names, I extract the wedding number and path\n",
    "  from the path I infer north-or-south\n",
    "  I then populate every row within that trial with these info\n",
    "  ** NB last wedding not included (11/12 weddings labeled)\n",
    "  \"\"\"\n",
    "  # North paths\n",
    "  path1 = ['1a','1b','2a','3a','4a','5']\n",
    "  path2 = ['1a','1b','2b','3b','4b','5']\n",
    "  # South paths\n",
    "  path3 = ['1a','1b','2a','3b','4a','5']\n",
    "  path4 = ['1a','1b','2b','3a','4b','5']\n",
    "  ## initialize columns\n",
    "  df['wed'] = 99\n",
    "  df['NorS'] = ''\n",
    "  ## find rows corresponding to trial start (preloading videos)\n",
    "  begin_trial_idxL = df[df.logdata.str[:len(\"Created vid1a = \")]==\"Created vid1a = \"].index\n",
    "  ## loop over trials\n",
    "  for begin_trial_idx,end_trial_idx in zip(begin_trial_idxL[:-1],begin_trial_idxL[1:]):\n",
    "    ## extract rows containing preloading, and use .str operations to clean\n",
    "    logdata_trial_info = df.iloc[begin_trial_idx:begin_trial_idx+6]\n",
    "    logdata_trial_info = logdata_trial_info.logdata.str.split(',').str[5].str.split('/').str[1]\n",
    "    ## further clean\n",
    "    wed_int = int(logdata_trial_info.str.split('.').str[0].values[0].split('-')[1])\n",
    "    path = logdata_trial_info.str.split('.').str[1].values\n",
    "    ## decide NorS label based on path\n",
    "    if np.array_equal(path,path1) or np.array_equal(path,path2):\n",
    "      NorS_str = 'N'\n",
    "    elif np.array_equal(path,path3) or np.array_equal(path,path4):\n",
    "      NorS_str = 'S'\n",
    "    else:\n",
    "      assert False\n",
    "    ## insert into dataframe\n",
    "    df.loc[begin_trial_idx:end_trial_idx,'wed'] = wed_int\n",
    "    df.loc[begin_trial_idx:end_trial_idx,'NorS'] = NorS_str\n",
    "  return df"
   ]
  },
  {
   "cell_type": "markdown",
   "metadata": {},
   "source": [
    "# load roi"
   ]
  },
  {
   "cell_type": "code",
   "execution_count": 32,
   "metadata": {},
   "outputs": [],
   "source": [
    "def load_sub_roi(sub_num,task,roi_name):\n",
    "  fpath = \"sub-%i_task-%s_roi-%s.npy\" %(sub_num,task,roi_name)\n",
    "  return np.load('fmri_data/masked/'+fpath)"
   ]
  },
  {
   "cell_type": "code",
   "execution_count": 44,
   "metadata": {},
   "outputs": [],
   "source": [
    "def get_xval_split_info(logdf):\n",
    "  \"\"\"\n",
    "  returns \n",
    "    N_TR_train_L: TRs for training on North\n",
    "    S_TR_train_L: TRs for training on South\n",
    "    TR_test_L: TRs for testing\n",
    "    label_test_L: label for testing TRs\n",
    "  each is list len 10, containing the information for an iteration of xval \n",
    "  \"\"\"\n",
    "  \n",
    "  wed_arr = logdf.wed.unique()\n",
    "  wed_arr = wed_arr[wed_arr!=99]\n",
    "\n",
    "  N_TR_train_L = []\n",
    "  S_TR_train_L = []\n",
    "  TR_test_L = []\n",
    "  label_test_L = []\n",
    "  \n",
    "  for wed_num_test in wed_arr:\n",
    "    ## training \n",
    "    # remove test wed from train_wed_arr\n",
    "    wed_arr_train = wed_arr[wed_arr!=wed_num_test]\n",
    "    # training subset of dataframe (entries with train wedding)\n",
    "    logdf_train = logdf[logdf.wed.isin(wed_arr_train)]\n",
    "    # training TRs\n",
    "    N_TR_train = logdf_train[logdf_train.NorS=='N'].TR.unique()\n",
    "    S_TR_train = logdf_train[logdf_train.NorS=='S'].TR.unique()\n",
    "    N_TR_train_L.append(N_TR_train)\n",
    "    S_TR_train_L.append(S_TR_train)\n",
    "    ## testing TRs\n",
    "    logdf_test = logdf[(logdf.wed == wed_num_test)]\n",
    "    TR_test = logdf_test.TR.unique()\n",
    "    label_test = logdf_test.NorS.unique() \n",
    "    TR_test_L.append(TR_test)\n",
    "    label_test_L.append(label_test[0])\n",
    "  return N_TR_train_L,S_TR_train_L,TR_test_L,label_test_L\n",
    "  "
   ]
  },
  {
   "cell_type": "code",
   "execution_count": 60,
   "metadata": {},
   "outputs": [
    {
     "data": {
      "text/plain": [
       "['rsherlockAvg_fc_thr5_pmc',\n",
       " 'rsherlockAvg_fc_thr5_mpfc',\n",
       " 'rsherlockAvg_fc_thr5_lTPJ',\n",
       " 'rsherlockAvg_fc_thr5_rTPJ',\n",
       " 'rsherlockAvg_fc_thr5_lSFG',\n",
       " 'rsherlockAvg_fc_thr5_rSFG',\n",
       " 'rhippocampusL_AAL',\n",
       " 'rhippocampusR_AAL',\n",
       " 'rhippocampusAAL']"
      ]
     },
     "execution_count": 60,
     "metadata": {},
     "output_type": "execute_result"
    }
   ],
   "source": [
    "ROI_NAME_L"
   ]
  },
  {
   "cell_type": "code",
   "execution_count": 82,
   "metadata": {
    "scrolled": true
   },
   "outputs": [
    {
     "name": "stdout",
     "output_type": "stream",
     "text": [
      "rsherlockAvg_fc_thr5_pmc\n",
      "30\n",
      "31\n",
      "32\n",
      "33\n",
      "34\n",
      "35\n",
      "36\n",
      "37\n",
      "38\n",
      "rsherlockAvg_fc_thr5_mpfc\n",
      "30\n",
      "31\n",
      "32\n",
      "33\n",
      "34\n",
      "35\n",
      "36\n",
      "37\n",
      "38\n",
      "rsherlockAvg_fc_thr5_lTPJ\n",
      "30\n",
      "31\n",
      "32\n",
      "33\n",
      "34\n",
      "35\n",
      "36\n",
      "37\n",
      "38\n",
      "rsherlockAvg_fc_thr5_rTPJ\n",
      "30\n",
      "31\n",
      "32\n",
      "33\n",
      "34\n",
      "35\n",
      "36\n",
      "37\n",
      "38\n",
      "rsherlockAvg_fc_thr5_lSFG\n",
      "30\n",
      "31\n",
      "32\n",
      "33\n",
      "34\n",
      "35\n",
      "36\n",
      "37\n",
      "38\n",
      "rsherlockAvg_fc_thr5_rSFG\n",
      "30\n",
      "31\n",
      "32\n",
      "33\n",
      "34\n",
      "35\n",
      "36\n",
      "37\n",
      "38\n",
      "rhippocampusL_AAL\n",
      "30\n",
      "31\n",
      "32\n",
      "33\n",
      "34\n",
      "35\n",
      "36\n",
      "37\n",
      "38\n",
      "rhippocampusR_AAL\n",
      "30\n",
      "31\n",
      "32\n",
      "33\n",
      "34\n",
      "35\n",
      "36\n",
      "37\n",
      "38\n",
      "rhippocampusAAL\n",
      "30\n",
      "31\n",
      "32\n",
      "33\n",
      "34\n",
      "35\n",
      "36\n",
      "37\n",
      "38\n"
     ]
    }
   ],
   "source": [
    "\"\"\" \n",
    "CLASSIFIER CROSS VALIDATION\n",
    "\"\"\"\n",
    "\n",
    "fdir = 'fmri_data/xval/sweep1/'\n",
    "task = 'videos'\n",
    "roi_name = 'rsherlockAvg_fc_thr5_pmc'\n",
    "\n",
    "for roi_name in ROI_NAME_L:\n",
    "  print(roi_name)\n",
    "  accL = []\n",
    "  for sub_num in SUB_NS:\n",
    "    print(sub_num)\n",
    "    roi_act = load_sub_roi(sub_num,task,roi_name)\n",
    "    sub_accL = []\n",
    "    ## xval split\n",
    "    for N_TR_train,S_TR_train,TR_test,label_test in zip(*get_xval_split_info(logdf)):\n",
    "      # split roi act into train and test\n",
    "      roi_act_N_train = roi_act[N_TR_train,:]\n",
    "      roi_act_S_train = roi_act[S_TR_train,:]\n",
    "      roi_act_test = roi_act[TR_test,:]\n",
    "      # form classifier datasets\n",
    "      X_train = np.concatenate([roi_act_N_train,roi_act_S_train])\n",
    "      X_test = roi_act_test\n",
    "      Y_train = np.concatenate([np.ones(len(roi_act_N_train)),np.zeros(len(roi_act_S_train))])\n",
    "      Y_test = np.repeat(int(label_test == 'N'),len(X_test))\n",
    "      clf = sklearn.linear_model.LogisticRegression(solver='liblinear').fit(X_train,Y_train)\n",
    "      sub_accL.append(clf.score(X_test,Y_test))\n",
    "      yhat = clf.predict_proba(X_test)\n",
    "#       print(clf.score(X_test,Y_test),clf.score(X_train,Y_train))\n",
    "    accL.append(sub_accL)\n",
    "\n",
    "  fpath = fdir+'acc-%s'%roi_name\n",
    "  np.save(fpath,np.array(accL))\n"
   ]
  },
  {
   "cell_type": "code",
   "execution_count": 114,
   "metadata": {},
   "outputs": [
    {
     "data": {
      "image/png": "[encoded data removed]",
      "text/plain": [
       "<Figure size 720x576 with 1 Axes>"
      ]
     },
     "metadata": {
      "needs_background": "light"
     },
     "output_type": "display_data"
    }
   ],
   "source": [
    "fdir = 'fmri_data/xval/sweep1/'\n",
    "\n",
    "plt.figure(figsize=(10,8))\n",
    "ax = plt.gca()\n",
    "for idx,roi_name in enumerate(ROI_NAME_L):\n",
    "  fpath = fdir+'acc-%s.npy'%roi_name\n",
    "  acc = np.load(fpath)\n",
    "  acc2 = acc.mean(0)\n",
    "  M = acc2.mean()\n",
    "  S = acc2.std()/np.sqrt(len(acc2))\n",
    "  ax.bar(idx,M,yerr=S)\n",
    "ax.set_ylim(0.4,0.6)\n",
    "ax.axhline(0.5)\n",
    "ax.set_xticks(range(9))\n",
    "ax.set_xticklabels(ROI_NAME_L,rotation=20)\n",
    "ax.set_ylabel('accuracy')\n",
    "\n",
    "plt.savefig('figures/view_xval_acc')"
   ]
  },
  {
   "cell_type": "code",
   "execution_count": 266,
   "metadata": {},
   "outputs": [],
   "source": [
    "def mov_avg(X,w):\n",
    "  A = np.ones(len(X)-w)\n",
    "  for i in range(len(X)-w):\n",
    "    A[i] = X[i:i+w].mean()\n",
    "  return A"
   ]
  },
  {
   "cell_type": "code",
   "execution_count": 273,
   "metadata": {},
   "outputs": [],
   "source": [
    "yhat_pr = clf.predict_proba(roi_act)[:,1]\n",
    "yhat_plt = mov_avg(yhat_pr,30)"
   ]
  },
  {
   "cell_type": "code",
   "execution_count": 276,
   "metadata": {},
   "outputs": [
    {
     "data": {
      "text/plain": [
       "<matplotlib.lines.Line2D at 0x1255bf588>"
      ]
     },
     "execution_count": 276,
     "metadata": {},
     "output_type": "execute_result"
    },
    {
     "data": {
      "image/png": "[encoded data removed]",
      "text/plain": [
       "<Figure size 432x288 with 1 Axes>"
      ]
     },
     "metadata": {
      "needs_background": "light"
     },
     "output_type": "display_data"
    }
   ],
   "source": [
    "plt.plot(yhat_plt)\n",
    "plt.scatter(NTR,np.ones(len(NTR)),c='g')\n",
    "plt.scatter(STR,np.zeros(len(STR)),c='r')\n",
    "plt.axhline(0.5,c='k')"
   ]
  }
 ],
 "metadata": {
  "kernelspec": {
   "display_name": "Python 3",
   "language": "python",
   "name": "python3"
  },
  "language_info": {
   "codemirror_mode": {
    "name": "ipython",
    "version": 3
   },
   "file_extension": ".py",
   "mimetype": "text/x-python",
   "name": "python",
   "nbconvert_exporter": "python",
   "pygments_lexer": "ipython3",
   "version": "3.6.12"
  }
 },
 "nbformat": 4,
 "nbformat_minor": 2
}
