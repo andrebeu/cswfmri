{
 "cells": [
  {
   "cell_type": "markdown",
   "metadata": {},
   "source": [
    "* creates `deriv/timing_df_recall.csv`\n",
    "- make and save a dataframe containing onset and offset TRs for each cue presentation during recall"
   ]
  },
  {
   "cell_type": "code",
   "execution_count": 1,
   "metadata": {},
   "outputs": [],
   "source": [
    "import numpy as np\n",
    "import pandas as pd\n",
    "import itertools\n",
    "import matplotlib.pyplot as plt\n",
    "\n",
    "import sklearn\n",
    "import brainiak\n",
    "import nilearn as nl\n",
    "from nilearn import image, plotting, input_data\n",
    "\n",
    "from scipy.spatial import distance\n",
    "\n",
    "pd.options.display.max_rows = 200"
   ]
  },
  {
   "cell_type": "markdown",
   "metadata": {},
   "source": [
    "- [SUB]_recall.log does not exist for all sub\n",
    "- use [sub]_recall_mylog.log instead"
   ]
  },
  {
   "cell_type": "markdown",
   "metadata": {},
   "source": [
    "### cols\n",
    "- sub_num\n",
    "- wed_id\n",
    "- onset TR\n",
    "- offset TR"
   ]
  },
  {
   "cell_type": "code",
   "execution_count": 64,
   "metadata": {},
   "outputs": [
    {
     "name": "stdout",
     "output_type": "stream",
     "text": [
      "error sub= 1\n",
      "error sub= 16\n",
      "error sub= 20\n",
      "error sub= 21\n"
     ]
    },
    {
     "name": "stderr",
     "output_type": "stream",
     "text": [
      "//anaconda3/envs/brain/lib/python3.6/site-packages/ipykernel_launcher.py:24: SettingWithCopyWarning: \n",
      "A value is trying to be set on a copy of a slice from a DataFrame\n",
      "\n",
      "See the caveats in the documentation: https://pandas.pydata.org/pandas-docs/stable/user_guide/indexing.html#returning-a-view-versus-a-copy\n"
     ]
    }
   ],
   "source": [
    "def load_sub_df(sub_num):\n",
    "  \"\"\" \"\"\"\n",
    "  TR_rate = 1.5\n",
    "  # load sub log file\n",
    "  fpath = 'data/behav/silvy_buckets/sub%.2iday2/%i_recall_mylog.log'%(100+sub_num,sub_num)\n",
    "  f = open(fpath, \"r\")\n",
    "  first_line = f.readline()\n",
    "  # extract first TR tstamp\n",
    "  first_tstamp = float(first_line.split()[1])\n",
    "  # init df\n",
    "  sub_df = pd.DataFrame(columns=['sub_num','wed_id','onset_TR','offset_TR'])\n",
    "  # loop over rows in logfile (stim onsets)\n",
    "  for x in f:\n",
    "    # extract info\n",
    "    RV,tstamp,stim = x.split(' ')\n",
    "    tstamp = float(tstamp[:-1])\n",
    "    wed_id = stim.split('/')[-1].split('.')[0][1:]\n",
    "    onset_TR = np.floor((tstamp-first_tstamp)/TR_rate)\n",
    "    # populate df with info\n",
    "    sub_df.loc[tstamp,'sub_num'] = sub_num\n",
    "    sub_df.loc[tstamp,'wed_id'] = wed_id\n",
    "    sub_df.loc[tstamp,'onset_TR'] = onset_TR\n",
    "  def include_offset_TR_col(sub_df):\n",
    "    sub_df.iloc[:-1].loc[:,'offset_TR'] = sub_df.iloc[1:].onset_TR.values\n",
    "    sub_df.iloc[-1].offset_TR = -1\n",
    "    return sub_df\n",
    "  sub_df = include_offset_TR_col(sub_df)\n",
    "  return sub_df\n",
    "\n",
    "\n",
    "sub_dfL = [] \n",
    "for sub_num in range(1,45):\n",
    "  try:\n",
    "    sub_df = load_sub_df(sub_num)\n",
    "  except:\n",
    "    print('error sub=',sub_num)\n",
    "    continue\n",
    "  sub_dfL.append(sub_df)\n",
    "\n"
   ]
  },
  {
   "cell_type": "code",
   "execution_count": 65,
   "metadata": {},
   "outputs": [],
   "source": [
    "timing_df = pd.concat(sub_dfL)\n",
    "timing_df.index = np.arange(len(timing_df))\n"
   ]
  },
  {
   "cell_type": "code",
   "execution_count": null,
   "metadata": {},
   "outputs": [],
   "source": []
  }
 ],
 "metadata": {
  "kernelspec": {
   "display_name": "Python 3",
   "language": "python",
   "name": "python3"
  },
  "language_info": {
   "codemirror_mode": {
    "name": "ipython",
    "version": 3
   },
   "file_extension": ".py",
   "mimetype": "text/x-python",
   "name": "python",
   "nbconvert_exporter": "python",
   "pygments_lexer": "ipython3",
   "version": "3.6.12"
  }
 },
 "nbformat": 4,
 "nbformat_minor": 4
}
