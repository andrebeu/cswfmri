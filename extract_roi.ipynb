{
 "cells": [
  {
   "cell_type": "markdown",
   "metadata": {},
   "source": [
    "### extract ROI from preprocessed .nii.gz"
   ]
  },
  {
   "cell_type": "code",
   "execution_count": 1,
   "metadata": {},
   "outputs": [],
   "source": [
    "import numpy as np\n",
    "import pandas as pd\n",
    "import matplotlib.pyplot as plt\n",
    "\n",
    "import nilearn as nl\n",
    "from nilearn import image, plotting, input_data"
   ]
  },
  {
   "cell_type": "code",
   "execution_count": 2,
   "metadata": {},
   "outputs": [],
   "source": [
    "def load_sub4d(sub_n,task='videos',max_len=4000,numpy_output=False):\n",
    "  \"\"\" \n",
    "  task = videos / recall2 \n",
    "  \"\"\"\n",
    "  ses = 2\n",
    "  fpath = 'data/fmri/func/sub-1%i_ses-0%i_task-%s_space-MNI152NLin2009cAsym_desc-preproc_bold.nii.gz'%(sub_n,ses,task)\n",
    "  try:\n",
    "    img = nl.image.load_img(fpath)\n",
    "  except:\n",
    "    print('NOT FOUND:',fpath)\n",
    "    return None\n",
    "  img = img.slicer[:,:,:,:max_len] # lengths differ\n",
    "  if numpy_output:\n",
    "    img = img.get_fdata() # nilearn into np\n",
    "  return img"
   ]
  },
  {
   "cell_type": "code",
   "execution_count": 3,
   "metadata": {},
   "outputs": [],
   "source": [
    "SUB_NS_FULL = [\n",
    "  3,4,5,6,7,8,9,10,\n",
    "  12,13,14,15,17,18,19,\n",
    "  22,23,24,25,26,27,28,29,\n",
    "  30,31,32,33,34,35,36,38,\n",
    "  40,41,42,43,44\n",
    "  ]\n",
    "\n",
    "SUB_NS_LOCAL = [\n",
    "  30,31,32,33,34,35,36,38,\n",
    "  ]\n",
    "\n",
    "ROI_NAME_L = [\n",
    "  'rglasser_AT_net',\n",
    "  'rglasser_MP_net',\n",
    "  'rglasser_MTN_net',\n",
    "  'rglasser_PM_net',\n",
    "  'rhippocampusAAL',\n",
    "  # 'rsherlockAvg_fc_thr5_mpfc',\n",
    "  # 'rsherlockAvg_fc_thr5_pmc',\n",
    "  # 'rsherlockAvg_fc_thr5_lTPJ',\n",
    "  # 'rsherlockAvg_fc_thr5_rTPJ',\n",
    "  # 'rsherlockAvg_fc_thr5_lSFG',\n",
    "  # 'rsherlockAvg_fc_thr5_rSFG',\n",
    "  # 'rhippocampusL_AAL',\n",
    "  # 'rhippocampusR_AAL'  \n",
    "  ]"
   ]
  },
  {
   "cell_type": "code",
   "execution_count": null,
   "metadata": {
    "scrolled": true
   },
   "outputs": [
    {
     "name": "stdout",
     "output_type": "stream",
     "text": [
      "NOT FOUND: data/fmri/func/sub-13_ses-02_task-videos_space-MNI152NLin2009cAsym_desc-preproc_bold.nii.gz\n",
      "NOT FOUND: data/fmri/func/sub-13_ses-02_task-recall2_space-MNI152NLin2009cAsym_desc-preproc_bold.nii.gz\n",
      "NOT FOUND: data/fmri/func/sub-14_ses-02_task-videos_space-MNI152NLin2009cAsym_desc-preproc_bold.nii.gz\n",
      "NOT FOUND: data/fmri/func/sub-14_ses-02_task-recall2_space-MNI152NLin2009cAsym_desc-preproc_bold.nii.gz\n",
      "NOT FOUND: data/fmri/func/sub-15_ses-02_task-videos_space-MNI152NLin2009cAsym_desc-preproc_bold.nii.gz\n",
      "NOT FOUND: data/fmri/func/sub-15_ses-02_task-recall2_space-MNI152NLin2009cAsym_desc-preproc_bold.nii.gz\n",
      "NOT FOUND: data/fmri/func/sub-16_ses-02_task-videos_space-MNI152NLin2009cAsym_desc-preproc_bold.nii.gz\n",
      "NOT FOUND: data/fmri/func/sub-16_ses-02_task-recall2_space-MNI152NLin2009cAsym_desc-preproc_bold.nii.gz\n",
      "NOT FOUND: data/fmri/func/sub-17_ses-02_task-videos_space-MNI152NLin2009cAsym_desc-preproc_bold.nii.gz\n",
      "NOT FOUND: data/fmri/func/sub-17_ses-02_task-recall2_space-MNI152NLin2009cAsym_desc-preproc_bold.nii.gz\n",
      "NOT FOUND: data/fmri/func/sub-18_ses-02_task-videos_space-MNI152NLin2009cAsym_desc-preproc_bold.nii.gz\n",
      "NOT FOUND: data/fmri/func/sub-18_ses-02_task-recall2_space-MNI152NLin2009cAsym_desc-preproc_bold.nii.gz\n",
      "NOT FOUND: data/fmri/func/sub-19_ses-02_task-videos_space-MNI152NLin2009cAsym_desc-preproc_bold.nii.gz\n",
      "NOT FOUND: data/fmri/func/sub-19_ses-02_task-recall2_space-MNI152NLin2009cAsym_desc-preproc_bold.nii.gz\n",
      "NOT FOUND: data/fmri/func/sub-110_ses-02_task-videos_space-MNI152NLin2009cAsym_desc-preproc_bold.nii.gz\n",
      "NOT FOUND: data/fmri/func/sub-110_ses-02_task-recall2_space-MNI152NLin2009cAsym_desc-preproc_bold.nii.gz\n",
      "NOT FOUND: data/fmri/func/sub-112_ses-02_task-videos_space-MNI152NLin2009cAsym_desc-preproc_bold.nii.gz\n",
      "NOT FOUND: data/fmri/func/sub-112_ses-02_task-recall2_space-MNI152NLin2009cAsym_desc-preproc_bold.nii.gz\n",
      "NOT FOUND: data/fmri/func/sub-113_ses-02_task-videos_space-MNI152NLin2009cAsym_desc-preproc_bold.nii.gz\n",
      "NOT FOUND: data/fmri/func/sub-113_ses-02_task-recall2_space-MNI152NLin2009cAsym_desc-preproc_bold.nii.gz\n",
      "NOT FOUND: data/fmri/func/sub-114_ses-02_task-videos_space-MNI152NLin2009cAsym_desc-preproc_bold.nii.gz\n",
      "NOT FOUND: data/fmri/func/sub-114_ses-02_task-recall2_space-MNI152NLin2009cAsym_desc-preproc_bold.nii.gz\n",
      "NOT FOUND: data/fmri/func/sub-115_ses-02_task-videos_space-MNI152NLin2009cAsym_desc-preproc_bold.nii.gz\n",
      "NOT FOUND: data/fmri/func/sub-115_ses-02_task-recall2_space-MNI152NLin2009cAsym_desc-preproc_bold.nii.gz\n",
      "NOT FOUND: data/fmri/func/sub-117_ses-02_task-videos_space-MNI152NLin2009cAsym_desc-preproc_bold.nii.gz\n",
      "NOT FOUND: data/fmri/func/sub-117_ses-02_task-recall2_space-MNI152NLin2009cAsym_desc-preproc_bold.nii.gz\n",
      "NOT FOUND: data/fmri/func/sub-118_ses-02_task-videos_space-MNI152NLin2009cAsym_desc-preproc_bold.nii.gz\n",
      "NOT FOUND: data/fmri/func/sub-118_ses-02_task-recall2_space-MNI152NLin2009cAsym_desc-preproc_bold.nii.gz\n",
      "NOT FOUND: data/fmri/func/sub-119_ses-02_task-videos_space-MNI152NLin2009cAsym_desc-preproc_bold.nii.gz\n",
      "NOT FOUND: data/fmri/func/sub-119_ses-02_task-recall2_space-MNI152NLin2009cAsym_desc-preproc_bold.nii.gz\n",
      "NOT FOUND: data/fmri/func/sub-122_ses-02_task-videos_space-MNI152NLin2009cAsym_desc-preproc_bold.nii.gz\n",
      "NOT FOUND: data/fmri/func/sub-122_ses-02_task-recall2_space-MNI152NLin2009cAsym_desc-preproc_bold.nii.gz\n",
      "NOT FOUND: data/fmri/func/sub-123_ses-02_task-videos_space-MNI152NLin2009cAsym_desc-preproc_bold.nii.gz\n",
      "NOT FOUND: data/fmri/func/sub-123_ses-02_task-recall2_space-MNI152NLin2009cAsym_desc-preproc_bold.nii.gz\n",
      "NOT FOUND: data/fmri/func/sub-124_ses-02_task-videos_space-MNI152NLin2009cAsym_desc-preproc_bold.nii.gz\n",
      "NOT FOUND: data/fmri/func/sub-124_ses-02_task-recall2_space-MNI152NLin2009cAsym_desc-preproc_bold.nii.gz\n",
      "NOT FOUND: data/fmri/func/sub-125_ses-02_task-videos_space-MNI152NLin2009cAsym_desc-preproc_bold.nii.gz\n",
      "NOT FOUND: data/fmri/func/sub-125_ses-02_task-recall2_space-MNI152NLin2009cAsym_desc-preproc_bold.nii.gz\n",
      "NOT FOUND: data/fmri/func/sub-126_ses-02_task-videos_space-MNI152NLin2009cAsym_desc-preproc_bold.nii.gz\n",
      "NOT FOUND: data/fmri/func/sub-126_ses-02_task-recall2_space-MNI152NLin2009cAsym_desc-preproc_bold.nii.gz\n",
      "NOT FOUND: data/fmri/func/sub-127_ses-02_task-videos_space-MNI152NLin2009cAsym_desc-preproc_bold.nii.gz\n",
      "NOT FOUND: data/fmri/func/sub-127_ses-02_task-recall2_space-MNI152NLin2009cAsym_desc-preproc_bold.nii.gz\n",
      "NOT FOUND: data/fmri/func/sub-128_ses-02_task-videos_space-MNI152NLin2009cAsym_desc-preproc_bold.nii.gz\n",
      "NOT FOUND: data/fmri/func/sub-128_ses-02_task-recall2_space-MNI152NLin2009cAsym_desc-preproc_bold.nii.gz\n",
      "NOT FOUND: data/fmri/func/sub-129_ses-02_task-videos_space-MNI152NLin2009cAsym_desc-preproc_bold.nii.gz\n",
      "NOT FOUND: data/fmri/func/sub-129_ses-02_task-recall2_space-MNI152NLin2009cAsym_desc-preproc_bold.nii.gz\n",
      "subj30 roi= rglasser_AT_net\n",
      "subj30 roi= rglasser_MP_net\n"
     ]
    }
   ],
   "source": [
    "for sub_n in SUB_NS_FULL:\n",
    "  # load subj\n",
    "  for task in ['videos','recall2']:\n",
    "    sub4d = load_sub4d(sub_n,task=task,max_len=4000,numpy_output=False)\n",
    "    if sub4d == None:\n",
    "      continue\n",
    "    for roi_name in ROI_NAME_L:\n",
    "      print('subj%i'%sub_n,'roi=',roi_name)\n",
    "      # load & threshold mask\n",
    "      roi_img = nl.image.threshold_img(\n",
    "        nl.image.load_img(\"data/fmri/rois/%s.nii\"%roi_name\n",
    "          ),0.5)\n",
    "      # plt masks\n",
    "      plt.figure(figsize=(3,8))\n",
    "      nl.plotting.plot_glass_brain(roi_img)\n",
    "      plt.savefig('figures/masks/%s'%roi_name)\n",
    "      plt.close('all')\n",
    "      # init & apply mask\n",
    "      nifti_masker = nl.input_data.NiftiMasker(mask_img=roi_img,high_pass=1/128,t_r=1.5)\n",
    "      sub4d_masked = nifti_masker.fit_transform(sub4d)\n",
    "      # save\n",
    "      save_fpath = \"sub-%i_task-%s_roi-%s\"%(sub_n,task,roi_name)\n",
    "      np.save('data/fmri/masked/%s'%save_fpath,sub4d_masked)\n",
    "  \n",
    "\n"
   ]
  }
 ],
 "metadata": {
  "kernelspec": {
   "display_name": "Python 3",
   "language": "python",
   "name": "python3"
  },
  "language_info": {
   "codemirror_mode": {
    "name": "ipython",
    "version": 3
   },
   "file_extension": ".py",
   "mimetype": "text/x-python",
   "name": "python",
   "nbconvert_exporter": "python",
   "pygments_lexer": "ipython3",
   "version": "3.6.12"
  }
 },
 "nbformat": 4,
 "nbformat_minor": 4
}
