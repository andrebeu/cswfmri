{
 "cells": [
  {
   "cell_type": "markdown",
   "metadata": {},
   "source": [
    "# wordvec"
   ]
  },
  {
   "cell_type": "markdown",
   "metadata": {},
   "source": [
    "- extract wedding words\n",
    "- load wordvec files"
   ]
  },
  {
   "cell_type": "code",
   "execution_count": 1,
   "metadata": {},
   "outputs": [],
   "source": [
    "from glob import glob as glob\n",
    "import numpy as np\n",
    "import pandas as pd\n",
    "import itertools\n",
    "import matplotlib.pyplot as plt\n",
    "\n",
    "import sklearn\n",
    "import brainiak\n",
    "import nilearn as nl\n",
    "from nilearn import image, plotting, input_data\n",
    "\n",
    "from scipy.spatial import distance\n",
    "\n",
    "from utils import *\n",
    "pd.options.display.max_rows = 200"
   ]
  },
  {
   "cell_type": "markdown",
   "metadata": {},
   "source": [
    "### load wordvec"
   ]
  },
  {
   "cell_type": "code",
   "execution_count": 27,
   "metadata": {},
   "outputs": [],
   "source": [
    "def load_wvec_dict():\n",
    "  f = open('deriv/glove.840B.300d.txt', \"r\")\n",
    "  D = {}\n",
    "  for fline in f:\n",
    "    try:\n",
    "      fline = f.readline()\n",
    "      w = fline.split()[0]\n",
    "      v = fline.split()[1:]\n",
    "      D[w.lower()]=np.array(v)\n",
    "    except:\n",
    "      print('err line:',fline)\n",
    "      continue\n",
    "  return D"
   ]
  },
  {
   "cell_type": "code",
   "execution_count": 28,
   "metadata": {},
   "outputs": [
    {
     "name": "stdout",
     "output_type": "stream",
     "text": [
      "err line: \n"
     ]
    }
   ],
   "source": [
    "wvec_D = load_wvec_dict()"
   ]
  },
  {
   "cell_type": "code",
   "execution_count": 29,
   "metadata": {
    "scrolled": true
   },
   "outputs": [
    {
     "data": {
      "text/plain": [
       "['psychics',\n",
       " 'inaudible',\n",
       " 'tetra',\n",
       " 'luminance',\n",
       " 'blacksburg',\n",
       " 'chronologically',\n",
       " '.77',\n",
       " 'thorny',\n",
       " 'kickboxing',\n",
       " 'behest',\n",
       " 'pitchers',\n",
       " \"o'toole\",\n",
       " 'beeswax',\n",
       " 'hanford',\n",
       " 'pippa',\n",
       " 'photosmart',\n",
       " 'mentors',\n",
       " 'truckers',\n",
       " 'subsurface',\n",
       " 'newsom',\n",
       " 'starfish',\n",
       " 'disseminating',\n",
       " 'empathize',\n",
       " 'draught',\n",
       " 'perversion',\n",
       " 'farmingdale',\n",
       " 'formulae',\n",
       " 'janus',\n",
       " 'pheasant',\n",
       " 'seep',\n",
       " 'me.i',\n",
       " 'io',\n",
       " 'immanuel',\n",
       " 'domed',\n",
       " 'unfulfilled',\n",
       " 'anemic',\n",
       " 'mitigated',\n",
       " 'cytokine',\n",
       " '17.1',\n",
       " 'punts',\n",
       " 'mouthfeel',\n",
       " 'hummel',\n",
       " 'appraisals',\n",
       " 'qvc',\n",
       " '10cm',\n",
       " 'etiology',\n",
       " '109.99',\n",
       " 'playroom',\n",
       " 'aerobic',\n",
       " 'sandalwood',\n",
       " 'multilayer',\n",
       " 'massacres',\n",
       " 'elizabethtown',\n",
       " 'bariatric',\n",
       " 'mesopotamia',\n",
       " 'mulling',\n",
       " 'sault',\n",
       " 'akshay',\n",
       " 'prussian',\n",
       " 'praia',\n",
       " 'admiral',\n",
       " 'sakes',\n",
       " 'may-23-2012',\n",
       " 'right-of-way',\n",
       " 'marketwire',\n",
       " 'tru',\n",
       " 'mcilroy',\n",
       " 'buckner',\n",
       " '249.99',\n",
       " 'hypothesized',\n",
       " '3-pt',\n",
       " 'pizza',\n",
       " 'flicking',\n",
       " 'mf',\n",
       " 'sha',\n",
       " 'ocarina',\n",
       " 'spades',\n",
       " 'sanctified',\n",
       " 'keats',\n",
       " 'submersible',\n",
       " 'aquatics',\n",
       " 'sloppy',\n",
       " 'overblown',\n",
       " 'hissed',\n",
       " 'engels',\n",
       " 'skechers',\n",
       " 'rcc',\n",
       " 'beavers',\n",
       " '1021',\n",
       " 'philips',\n",
       " 'carols',\n",
       " 'urn',\n",
       " '2001-2006',\n",
       " 'suspenseful',\n",
       " 'dandruff',\n",
       " 'manifolds',\n",
       " 'tomahawk',\n",
       " 'ultimatum',\n",
       " 'babble',\n",
       " 'admits']"
      ]
     },
     "execution_count": 29,
     "metadata": {},
     "output_type": "execute_result"
    }
   ],
   "source": [
    "[* wvec_D.keys()][25000:25100]"
   ]
  },
  {
   "cell_type": "markdown",
   "metadata": {},
   "source": [
    "### load wedding text"
   ]
  },
  {
   "cell_type": "code",
   "execution_count": 61,
   "metadata": {},
   "outputs": [],
   "source": [
    "def clean_str(input_str):\n",
    "  \"\"\" remove punctuation\n",
    "  \"\"\"\n",
    "  invalid_char_L = ['.','!','\"','“','”',',',':',\"’\"]\n",
    "  for char in invalid_char_L:\n",
    "    input_str = input_str.replace(char,'').lower()\n",
    "  return input_str "
   ]
  },
  {
   "cell_type": "code",
   "execution_count": 62,
   "metadata": {},
   "outputs": [
    {
     "name": "stdout",
     "output_type": "stream",
     "text": [
      "\n",
      "- deriv/wedding_text/wed20.txt \n",
      " {0: ' camille and felix both love to travel they were both backpacking around south america when they happened to be staying in the same hostel for a week they met in the kitchen got to talking and made plans to explore the country together for the week they had booked they enjoyed their time together so much that they decided to do the rest of the trip together and they left south america engaged today they are getting married ', 1: ' the officiant of the wedding welcomes them and their guests welcome camille and felix today is a very important day in the stories of your lives', 2: ' to begin the wedding camille and felix gather around a campfire this is meant to show the eternal nature of their love this experience reminds camille of felix of how in south america when they were staying in a small village they partied with the villagers around a campfire ', 3: ' to begin the wedding camille and felix choose to plant the freesia a brazilian flower because brazil is where felix proposed to camille the flower symbolizes the beginning of a new life together ', 4: ' next camille and felix drop coins into the ceremonial bowl this shows gratitude to the family for their support of the union ', 5: ' next camille and felix stand together while the officiant encircles them felix holds a torch and the officiants inability to come between them shows how nothing can come between them ', 6: ' for the final ritual camille and felix crack an egg together to symbolize the destruction of evil within them they paint an owl on their egg because the hostel they met at was called the argentinian owl ', 7: ' for the final ritual camille and felix paint a flower the flower is medicinal and camille was treated with this when she got food poisoning in chile felix decided to propose to camille after this incident so it was a special event', 8: ' as the ceremony comes to a close camille and felix look at their gifts they rejoice because they really like them one friend gave camille a skirt for dancing salsa a skill camille and felix picked up on their travels in addition a family member gave them a wheelbarrow for the gardening the couple does when they are not traveling '}\n"
     ]
    }
   ],
   "source": [
    "def read_wed_text(fpath):\n",
    "  \"\"\" returns a dict {event_i : text}\n",
    "  containing the text of the events in wedding\n",
    "  \"\"\"\n",
    "  f = open(fpath, \"r\")\n",
    "  D = {}\n",
    "  for fline in f.read().split('\\n'):\n",
    "    fline_split = fline.split('--')\n",
    "    if len(fline_split) == 2:\n",
    "      state_i = int(fline_split[0])\n",
    "      state_str = str(fline_split[1]).lower()\n",
    "      D[state_i] = clean_str(state_str)\n",
    "  return D\n",
    "\n",
    "fpathL = glob(\"deriv/wedding_text/wed*.txt\")\n",
    "for fpath in fpathL[:1]:\n",
    "  wedtxt_D = read_wed_text(fpath)\n",
    "  print('\\n-',fpath,'\\n',wedtxt_D)"
   ]
  },
  {
   "cell_type": "code",
   "execution_count": 63,
   "metadata": {},
   "outputs": [
    {
     "data": {
      "text/plain": [
       "array(['1', '6', '9-1-1', 'addition', 'been', 'begun', 'birdcage', 'bond',\n",
       "       'bonding', 'bonfire', 'bracelet', 'brazil', 'brazilian', 'break',\n",
       "       'buddha', 'california', 'camille', 'chance', 'coffee',\n",
       "       'commemorate', 'consequent', 'cooking', 'dated', 'demonstration',\n",
       "       'desert', 'dessert', 'drinks', 'dropping', 'embarrassing',\n",
       "       'enchanted', 'engagement', 'established', 'flame', 'food',\n",
       "       'fortune', 'freesia', 'gardening', 'getting', 'greeting', 'held',\n",
       "       'high-impact', 'hiring', 'i', 'inability', 'incorporated',\n",
       "       'irises', 'joining', 'kept', 'kitchen', 'lunch', 'magdalenes',\n",
       "       'many', 'mountain', 'native', 'nights', 'officiants', 'others',\n",
       "       'overpass', 'paints', 'parrot', 'partakes', 'partied', 'pleased',\n",
       "       'poppins', 'racket', 'receive', 'ring', 'ship', 'simon', 'tables',\n",
       "       'tennis', 'through', 'together', 'treated', 'trying', 'vegan',\n",
       "       'vintage', 'vivian', 'walks', 'walrus', 'whole', '‘welcome'],\n",
       "      dtype='<U13')"
      ]
     },
     "execution_count": 63,
     "metadata": {},
     "output_type": "execute_result"
    }
   ],
   "source": [
    "\"\"\" WORDS NOT IN VOCAB\n",
    "\"\"\"\n",
    "\n",
    "w_notin_vocab_L = []\n",
    "for fpath in fpathL:\n",
    "  wedtxt_D = read_wed_text(fpath)\n",
    "  for event_i in range(9):\n",
    "    for w in wedtxt_D[event_i].split():\n",
    "      if w not in wvec_D:\n",
    "        w_notin_vocab_L.append(w)\n",
    "\n",
    "np.unique(w_notin_vocab_L)"
   ]
  },
  {
   "cell_type": "markdown",
   "metadata": {},
   "source": [
    "### wedding text to wordvec sequence"
   ]
  }
 ],
 "metadata": {
  "kernelspec": {
   "display_name": "Python 3",
   "language": "python",
   "name": "python3"
  },
  "language_info": {
   "codemirror_mode": {
    "name": "ipython",
    "version": 3
   },
   "file_extension": ".py",
   "mimetype": "text/x-python",
   "name": "python",
   "nbconvert_exporter": "python",
   "pygments_lexer": "ipython3",
   "version": "3.6.12"
  }
 },
 "nbformat": 4,
 "nbformat_minor": 4
}
