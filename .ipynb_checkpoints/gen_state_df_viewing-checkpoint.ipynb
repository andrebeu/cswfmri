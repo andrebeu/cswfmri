{
 "cells": [
  {
   "cell_type": "markdown",
   "metadata": {},
   "source": [
    "* creates `state_df_viewing.csv`\n",
    "- make and save a dataframe containing the onset TR for each event in the experiment\n",
    "- average across subjects to get a single common TR that will be used to index functional data"
   ]
  },
  {
   "cell_type": "code",
   "execution_count": null,
   "metadata": {},
   "outputs": [],
   "source": [
    "import numpy as np\n",
    "import pandas as pd\n",
    "import itertools\n",
    "import matplotlib.pyplot as plt\n",
    "\n",
    "import sklearn\n",
    "import brainiak\n",
    "import nilearn as nl\n",
    "from nilearn import image, plotting, input_data\n",
    "\n",
    "from scipy.spatial import distance\n",
    "\n",
    "pd.options.display.max_rows = 200"
   ]
  },
  {
   "cell_type": "code",
   "execution_count": null,
   "metadata": {},
   "outputs": [],
   "source": [
    "def read_logfile(sub_num,task='viewing'):\n",
    "  \"\"\" \n",
    "  read psychopy logifle into dataframe\n",
    "  \"\"\"\n",
    "  # initialize dataframe\n",
    "  df = pd.DataFrame(columns=['tstamp','logdata'])\n",
    "  df = df.astype({'tstamp':float})\n",
    "  # open logfile\n",
    "  fpath = 'data/behav/silvy_buckets/sub%iday2/%i_%s.log'%(100+sub_num,sub_num,task)\n",
    "  f = open(fpath, \"r\")\n",
    "  # loop over logfile rows\n",
    "  for x in f:\n",
    "    tstamp,B,C = x.split('\\t')\n",
    "    tstamp = float(tstamp)\n",
    "#     df.loc[tstamp,'logtype'] = B[:-1]\n",
    "    df.loc[tstamp,'logdata'] = C[:-1]\n",
    "    df.loc[tstamp,'tstamp'] = tstamp\n",
    "  return df\n",
    "\n",
    "def reindex_and_TR_column(df):\n",
    "  TR_rate = 1.5\n",
    "  # first TR\n",
    "  first_TR_tstamp = df[df.logdata=='Keypress: equal'].iloc[0].tstamp\n",
    "  # center tstamps on first TR\n",
    "  df.tstamp = df.tstamp-first_TR_tstamp\n",
    "  # include TR column\n",
    "  df['TR'] = np.ceil(df.tstamp/TR_rate)\n",
    "  df = df.astype({'TR':int})\n",
    "  # remove negative TRs\n",
    "  df = df[df.TR>-1]\n",
    "  # reindex by row number\n",
    "  df.index = np.arange(len(df))\n",
    "  return df"
   ]
  }
 ],
 "metadata": {
  "kernelspec": {
   "display_name": "Python 3",
   "language": "python",
   "name": "python3"
  },
  "language_info": {
   "codemirror_mode": {
    "name": "ipython",
    "version": 3
   },
   "file_extension": ".py",
   "mimetype": "text/x-python",
   "name": "python",
   "nbconvert_exporter": "python",
   "pygments_lexer": "ipython3",
   "version": "3.6.12"
  }
 },
 "nbformat": 4,
 "nbformat_minor": 4
}
