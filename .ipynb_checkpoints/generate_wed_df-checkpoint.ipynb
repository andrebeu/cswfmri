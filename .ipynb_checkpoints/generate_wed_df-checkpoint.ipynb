{
 "cells": [
  {
   "cell_type": "markdown",
   "metadata": {},
   "source": [
    "* creates `deriv/wed_df.csv`\n",
    "- make and save dataframe\n",
    "- file dependency: `NvSclass_df.csv` and `timing_df_viewing.csv` and `timing_df_recall.csv`"
   ]
  },
  {
   "cell_type": "code",
   "execution_count": 1,
   "metadata": {},
   "outputs": [],
   "source": [
    "import numpy as np\n",
    "import pandas as pd\n",
    "import itertools\n",
    "import matplotlib.pyplot as plt\n",
    "\n",
    "import sklearn\n",
    "import brainiak\n",
    "import nilearn as nl\n",
    "from nilearn import image, plotting, input_data\n",
    "\n",
    "from scipy.spatial import distance\n",
    "\n",
    "pd.options.display.max_rows = 200"
   ]
  },
  {
   "cell_type": "markdown",
   "metadata": {},
   "source": [
    "### cols\n",
    "- sub_num\n",
    "- wed_id\n",
    "- onset_view\n",
    "- onset_recal\n",
    "- offset_view\n",
    "- offset_recal"
   ]
  },
  {
   "cell_type": "code",
   "execution_count": 2,
   "metadata": {},
   "outputs": [
    {
     "name": "stdout",
     "output_type": "stream",
     "text": [
      "\n",
      "    wed_num  vid_str  onset_TR  len_TRs  offset_TR\n",
      "0        0  vid1a_q        12       17         29\n",
      "1        0  vid1b_q        29        6         35\n",
      "2        0   vid2_q        35       11         46\n",
      "3        0   vid3_q        49       15         64\n",
      "4        0   vid4_q        67       16         83\n",
      "\n",
      "    sub_num  wed_id  onset_TR  offset_TR wed_class\n",
      "0        2      34         0         27       NaN\n",
      "1        2      29        27         46       NaN\n",
      "2        2      17        46         63       NaN\n",
      "3        2      38        63         81       NaN\n",
      "4        2       6        81        124       NaN\n",
      "\n",
      "   NorS  wed_id  wed_num  sub_num\n",
      "0    S      20        0        3\n",
      "1    N      23        1        3\n",
      "2    N       6        2        3\n",
      "3    S      17        3        3\n",
      "4    S      38        4        3\n"
     ]
    }
   ],
   "source": [
    "\"\"\" onset and offset TR for each state of each wedding \"\"\"\n",
    "timing_df_view = pd.read_csv('deriv/timing_df_viewing.csv',index_col=0)\n",
    "print('\\n',timing_df_view.head())\n",
    "timing_df_recal = pd.read_csv('deriv/timing_df_recall.csv',index_col=0)\n",
    "print('\\n',timing_df_recal.head())\n",
    "wedclass_df = pd.read_csv('deriv/NvSclass_df.csv',index_col=0)\n",
    "print('\\n',wedclass_df.head())"
   ]
  },
  {
   "cell_type": "markdown",
   "metadata": {},
   "source": [
    "### init wed_df from timing_recall_df"
   ]
  },
  {
   "cell_type": "code",
   "execution_count": 3,
   "metadata": {},
   "outputs": [],
   "source": [
    "wed_df = timing_df_recal.copy()\n",
    "wed_df = wed_df.rename(columns={'onset_TR':'onset_recall','offset_TR':'offset_recall'})"
   ]
  },
  {
   "cell_type": "markdown",
   "metadata": {},
   "source": [
    "### include col wed_view_num "
   ]
  },
  {
   "cell_type": "code",
   "execution_count": 4,
   "metadata": {
    "scrolled": true
   },
   "outputs": [
    {
     "name": "stdout",
     "output_type": "stream",
     "text": [
      "err sub 2\n",
      "err sub 2\n",
      "err sub 2\n",
      "err sub 2\n",
      "err sub 2\n",
      "err sub 2\n",
      "err sub 2\n",
      "err sub 2\n",
      "err sub 2\n",
      "err sub 2\n",
      "err sub 2\n",
      "err sub 2\n",
      "err sub 11\n",
      "err sub 11\n",
      "err sub 11\n",
      "err sub 11\n",
      "err sub 11\n",
      "err sub 11\n",
      "err sub 11\n",
      "err sub 11\n",
      "err sub 11\n",
      "err sub 11\n",
      "err sub 11\n",
      "err sub 11\n",
      "err sub 37\n",
      "err sub 37\n",
      "err sub 37\n",
      "err sub 37\n",
      "err sub 37\n",
      "err sub 37\n",
      "err sub 37\n",
      "err sub 37\n",
      "err sub 37\n",
      "err sub 37\n",
      "err sub 37\n",
      "err sub 37\n",
      "err sub 39\n",
      "err sub 39\n",
      "err sub 39\n",
      "err sub 39\n",
      "err sub 39\n",
      "err sub 39\n",
      "err sub 39\n",
      "err sub 39\n",
      "err sub 39\n",
      "err sub 39\n",
      "err sub 39\n",
      "err sub 39\n"
     ]
    }
   ],
   "source": [
    "\"\"\" \n",
    "use `NvSclass_df.csv` to match wedding_id and wedding_viewing_order\n",
    "\"\"\"\n",
    "## init col\n",
    "wed_df.loc[:,'wed_view_num']=int(-99)\n",
    "## loop over rows\n",
    "for idx,df_row in wed_df.iterrows():  \n",
    "  try:\n",
    "    wed_df.loc[idx,'wed_view_num'] = wedclass_df[(\n",
    "                    wedclass_df.sub_num == df_row.sub_num) & (\n",
    "                    wedclass_df.wed_id == df_row.wed_id\n",
    "                  )].wed_num.values[0]\n",
    "  except:\n",
    "    print('err sub',df_row.sub_num)\n",
    "    continue\n"
   ]
  },
  {
   "cell_type": "markdown",
   "metadata": {},
   "source": [
    "### include cols onset_view and offset_view"
   ]
  },
  {
   "cell_type": "code",
   "execution_count": 5,
   "metadata": {
    "scrolled": true
   },
   "outputs": [
    {
     "name": "stdout",
     "output_type": "stream",
     "text": [
      "err sub 2\n",
      "err sub 2\n",
      "err sub 2\n",
      "err sub 2\n",
      "err sub 2\n",
      "err sub 2\n",
      "err sub 2\n",
      "err sub 2\n",
      "err sub 2\n",
      "err sub 2\n",
      "err sub 2\n",
      "err sub 2\n",
      "err sub 11\n",
      "err sub 11\n",
      "err sub 11\n",
      "err sub 11\n",
      "err sub 11\n",
      "err sub 11\n",
      "err sub 11\n",
      "err sub 11\n",
      "err sub 11\n",
      "err sub 11\n",
      "err sub 11\n",
      "err sub 11\n",
      "err sub 37\n",
      "err sub 37\n",
      "err sub 37\n",
      "err sub 37\n",
      "err sub 37\n",
      "err sub 37\n",
      "err sub 37\n",
      "err sub 37\n",
      "err sub 37\n",
      "err sub 37\n",
      "err sub 37\n",
      "err sub 37\n",
      "err sub 39\n",
      "err sub 39\n",
      "err sub 39\n",
      "err sub 39\n",
      "err sub 39\n",
      "err sub 39\n",
      "err sub 39\n",
      "err sub 39\n",
      "err sub 39\n",
      "err sub 39\n",
      "err sub 39\n",
      "err sub 39\n"
     ]
    }
   ],
   "source": [
    "\"\"\"\n",
    "from `timing_df_viewing.csv` extract onset and offset of viewing \n",
    "\"\"\"\n",
    "wed_df.loc[:,'onset_view']=-99\n",
    "wed_df.loc[:,'offset_view']=-99\n",
    "\n",
    "for idx,df_row in wed_df.iterrows():\n",
    "  timing_df_view_wed = timing_df_view[timing_df_view.wed_num == df_row.wed_view_num]\n",
    "  onset_view = timing_df_view_wed[timing_df_view_wed.vid_str.str[:len('vid1a')]=='vid1a'].onset_TR\n",
    "  offset_view = timing_df_view_wed[timing_df_view_wed.vid_str.str[:len('vid5')]=='vid5'].offset_TR\n",
    "  if not len(onset_view):\n",
    "    print('err sub',df_row.sub_num)\n",
    "    continue\n",
    "  wed_df.loc[idx,'onset_view'] = onset_view.values[0]\n",
    "  wed_df.loc[idx,'offset_view'] = offset_view.values[0]"
   ]
  },
  {
   "cell_type": "code",
   "execution_count": 6,
   "metadata": {},
   "outputs": [],
   "source": [
    "wed_df.iloc[40:200]\n",
    "wed_df.to_csv('deriv/wed_df.csv')"
   ]
  }
 ],
 "metadata": {
  "kernelspec": {
   "display_name": "Python 3",
   "language": "python",
   "name": "python3"
  },
  "language_info": {
   "codemirror_mode": {
    "name": "ipython",
    "version": 3
   },
   "file_extension": ".py",
   "mimetype": "text/x-python",
   "name": "python",
   "nbconvert_exporter": "python",
   "pygments_lexer": "ipython3",
   "version": "3.6.12"
  }
 },
 "nbformat": 4,
 "nbformat_minor": 4
}
