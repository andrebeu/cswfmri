{
 "cells": [
  {
   "cell_type": "code",
   "execution_count": 5,
   "metadata": {},
   "outputs": [],
   "source": [
    "import numpy as np\n",
    "import pandas as pd\n",
    "import matplotlib.pyplot as plt\n",
    "\n",
    "import sklearn\n",
    "import brainiak\n",
    "import nilearn as nl\n",
    "from nilearn import image, plotting, input_data\n",
    "\n",
    "from scipy.spatial import distance\n",
    "\n",
    "from utils import *"
   ]
  },
  {
   "cell_type": "code",
   "execution_count": 6,
   "metadata": {},
   "outputs": [],
   "source": [
    "from sklearn.linear_model import LogisticRegression"
   ]
  },
  {
   "cell_type": "markdown",
   "metadata": {},
   "source": [
    "classifier evidence over time for each subject / wedding\n",
    "- train\n",
    "- eval"
   ]
  },
  {
   "cell_type": "code",
   "execution_count": 33,
   "metadata": {},
   "outputs": [
    {
     "data": {
      "text/html": [
       "<div>\n",
       "<style scoped>\n",
       "    .dataframe tbody tr th:only-of-type {\n",
       "        vertical-align: middle;\n",
       "    }\n",
       "\n",
       "    .dataframe tbody tr th {\n",
       "        vertical-align: top;\n",
       "    }\n",
       "\n",
       "    .dataframe thead th {\n",
       "        text-align: right;\n",
       "    }\n",
       "</style>\n",
       "<table border=\"1\" class=\"dataframe\">\n",
       "  <thead>\n",
       "    <tr style=\"text-align: right;\">\n",
       "      <th></th>\n",
       "      <th>time</th>\n",
       "      <th>B</th>\n",
       "      <th>C</th>\n",
       "    </tr>\n",
       "  </thead>\n",
       "  <tbody>\n",
       "    <tr>\n",
       "      <th>0</th>\n",
       "      <td>10</td>\n",
       "      <td>NaN</td>\n",
       "      <td>NaN</td>\n",
       "    </tr>\n",
       "  </tbody>\n",
       "</table>\n",
       "</div>"
      ],
      "text/plain": [
       "  time    B    C\n",
       "0   10  NaN  NaN"
      ]
     },
     "execution_count": 33,
     "metadata": {},
     "output_type": "execute_result"
    }
   ],
   "source": [
    "df = pd.DataFrame(columns=['time','B','C'])\n",
    "df.loc[0,'time'] = 10\n",
    "df"
   ]
  },
  {
   "cell_type": "code",
   "execution_count": 69,
   "metadata": {},
   "outputs": [],
   "source": [
    "np.round?"
   ]
  },
  {
   "cell_type": "code",
   "execution_count": 104,
   "metadata": {
    "scrolled": true
   },
   "outputs": [],
   "source": [
    "def load_logfile_df(sub_num,TR_rate=1.5):\n",
    "  sub_num = 30\n",
    "  # load logfile into dataframe\n",
    "  df = pd.DataFrame(columns=['TR','time','type','data',])\n",
    "  fpath = 'behav/silvy_buckets/sub1%iday2/%i_viewing.log'%(sub_num,sub_num)\n",
    "  first_TR_bool = True\n",
    "  f = open(fpath, \"r\")\n",
    "  for x in f:\n",
    "    tstamp,B,C = x.split('\\t')\n",
    "    tstamp = float(tstamp)\n",
    "    if first_TR_bool and C == 'Keypress: equal\\n':\n",
    "      first_TR_bool = False\n",
    "      first_TR_tstamp = tstamp\n",
    "    df.loc[tstamp,'type'] = B\n",
    "    df.loc[tstamp,'data'] = C\n",
    "\n",
    "  # reindex relative to first TR\n",
    "  df.index = df.index - first_TR_tstamp \n",
    "  # include TR column\n",
    "  df.loc[:,'TR'] = np.floor(df.index /TR_rate)\n",
    "  # remove negative TRs\n",
    "  df = df[df.TR >= 0 ]\n",
    "  return df"
   ]
  },
  {
   "cell_type": "code",
   "execution_count": 105,
   "metadata": {},
   "outputs": [
    {
     "data": {
      "text/html": [
       "<div>\n",
       "<style scoped>\n",
       "    .dataframe tbody tr th:only-of-type {\n",
       "        vertical-align: middle;\n",
       "    }\n",
       "\n",
       "    .dataframe tbody tr th {\n",
       "        vertical-align: top;\n",
       "    }\n",
       "\n",
       "    .dataframe thead th {\n",
       "        text-align: right;\n",
       "    }\n",
       "</style>\n",
       "<table border=\"1\" class=\"dataframe\">\n",
       "  <thead>\n",
       "    <tr style=\"text-align: right;\">\n",
       "      <th></th>\n",
       "      <th>TR</th>\n",
       "      <th>time</th>\n",
       "      <th>type</th>\n",
       "      <th>data</th>\n",
       "    </tr>\n",
       "  </thead>\n",
       "  <tbody>\n",
       "    <tr>\n",
       "      <th>0.0000</th>\n",
       "      <td>0</td>\n",
       "      <td>NaN</td>\n",
       "      <td>DATA</td>\n",
       "      <td>Keypress: equal\\n</td>\n",
       "    </tr>\n",
       "    <tr>\n",
       "      <th>0.0190</th>\n",
       "      <td>0</td>\n",
       "      <td>NaN</td>\n",
       "      <td>EXP</td>\n",
       "      <td>Imported subj30_day2_viewing.csv as conditions...</td>\n",
       "    </tr>\n",
       "    <tr>\n",
       "      <th>0.0194</th>\n",
       "      <td>0</td>\n",
       "      <td>NaN</td>\n",
       "      <td>EXP</td>\n",
       "      <td>Created sequence: sequential, trialTypes=12, n...</td>\n",
       "    </tr>\n",
       "    <tr>\n",
       "      <th>0.0201</th>\n",
       "      <td>0</td>\n",
       "      <td>NaN</td>\n",
       "      <td>EXP</td>\n",
       "      <td>New trial (rep=0, index=0): OrderedDict([('nor...</td>\n",
       "    </tr>\n",
       "    <tr>\n",
       "      <th>0.0208</th>\n",
       "      <td>0</td>\n",
       "      <td>NaN</td>\n",
       "      <td>EXP</td>\n",
       "      <td>Created sequence: random, trialTypes=1, nReps=...</td>\n",
       "    </tr>\n",
       "    <tr>\n",
       "      <th>...</th>\n",
       "      <td>...</td>\n",
       "      <td>...</td>\n",
       "      <td>...</td>\n",
       "      <td>...</td>\n",
       "    </tr>\n",
       "    <tr>\n",
       "      <th>1744.4278</th>\n",
       "      <td>1162</td>\n",
       "      <td>NaN</td>\n",
       "      <td>DATA</td>\n",
       "      <td>Keypress: equal\\n</td>\n",
       "    </tr>\n",
       "    <tr>\n",
       "      <th>1745.3608</th>\n",
       "      <td>1163</td>\n",
       "      <td>NaN</td>\n",
       "      <td>DATA</td>\n",
       "      <td>Keypress: 2\\n</td>\n",
       "    </tr>\n",
       "    <tr>\n",
       "      <th>1746.5353</th>\n",
       "      <td>1164</td>\n",
       "      <td>NaN</td>\n",
       "      <td>DATA</td>\n",
       "      <td>Keypress: equal\\n</td>\n",
       "    </tr>\n",
       "    <tr>\n",
       "      <th>1746.5427</th>\n",
       "      <td>1164</td>\n",
       "      <td>NaN</td>\n",
       "      <td>EXP</td>\n",
       "      <td>northorsouth2: autoDraw = False\\n</td>\n",
       "    </tr>\n",
       "    <tr>\n",
       "      <th>1746.8863</th>\n",
       "      <td>1164</td>\n",
       "      <td>NaN</td>\n",
       "      <td>EXP</td>\n",
       "      <td>window1: mouseVisible = True\\n</td>\n",
       "    </tr>\n",
       "  </tbody>\n",
       "</table>\n",
       "<p>1803 rows × 4 columns</p>\n",
       "</div>"
      ],
      "text/plain": [
       "             TR time   type                                               data\n",
       "0.0000        0  NaN  DATA                                   Keypress: equal\\n\n",
       "0.0190        0  NaN   EXP   Imported subj30_day2_viewing.csv as conditions...\n",
       "0.0194        0  NaN   EXP   Created sequence: sequential, trialTypes=12, n...\n",
       "0.0201        0  NaN   EXP   New trial (rep=0, index=0): OrderedDict([('nor...\n",
       "0.0208        0  NaN   EXP   Created sequence: random, trialTypes=1, nReps=...\n",
       "...         ...  ...    ...                                                ...\n",
       "1744.4278  1162  NaN  DATA                                   Keypress: equal\\n\n",
       "1745.3608  1163  NaN  DATA                                       Keypress: 2\\n\n",
       "1746.5353  1164  NaN  DATA                                   Keypress: equal\\n\n",
       "1746.5427  1164  NaN   EXP                   northorsouth2: autoDraw = False\\n\n",
       "1746.8863  1164  NaN   EXP                      window1: mouseVisible = True\\n\n",
       "\n",
       "[1803 rows x 4 columns]"
      ]
     },
     "execution_count": 105,
     "metadata": {},
     "output_type": "execute_result"
    }
   ],
   "source": [
    "df = load_logfile_df(33)"
   ]
  },
  {
   "cell_type": "markdown",
   "metadata": {},
   "source": [
    "# load roi"
   ]
  },
  {
   "cell_type": "code",
   "execution_count": null,
   "metadata": {},
   "outputs": [],
   "source": [
    "A = load_sub4d(30,task='videos',max_len=2000,numpy_output=False)"
   ]
  },
  {
   "cell_type": "code",
   "execution_count": null,
   "metadata": {},
   "outputs": [],
   "source": [
    "\"sub-130_ses-02_task-videos_space-MNI152NLin2009cAsym_desc-preproc_bold.nii\""
   ]
  },
  {
   "cell_type": "code",
   "execution_count": 7,
   "metadata": {},
   "outputs": [],
   "source": [
    "def load_sub_roi(sub_n,roi_name):\n",
    "  fpath = \"sub-%i_%s.npy\"%(sub_n,roi_name)\n",
    "  return np.load('fmri_data/masked/'+fpath)\n",
    "\n",
    "def load_group_roi(roi_name,max_len=1160):\n",
    "  L = []\n",
    "  for sub_n in SUB_NS:\n",
    "    sub_roi = load_sub_roi(sub_n,roi_name)\n",
    "    print(sub_roi.shape)\n",
    "    L.append(sub_roi[:max_len,:])\n",
    "  return np.array(L)"
   ]
  },
  {
   "cell_type": "code",
   "execution_count": 12,
   "metadata": {},
   "outputs": [
    {
     "name": "stdout",
     "output_type": "stream",
     "text": [
      "(1168, 868)\n",
      "(1166, 868)\n",
      "(1168, 868)\n",
      "(1167, 868)\n",
      "(1166, 868)\n",
      "(1168, 868)\n",
      "(1166, 868)\n",
      "(1167, 868)\n",
      "(1166, 868)\n"
     ]
    }
   ],
   "source": [
    "group_roi = load_group_roi(ROI_NAME_L[0])"
   ]
  }
 ],
 "metadata": {
  "kernelspec": {
   "display_name": "Python 3",
   "language": "python",
   "name": "python3"
  },
  "language_info": {
   "codemirror_mode": {
    "name": "ipython",
    "version": 3
   },
   "file_extension": ".py",
   "mimetype": "text/x-python",
   "name": "python",
   "nbconvert_exporter": "python",
   "pygments_lexer": "ipython3",
   "version": "3.6.12"
  }
 },
 "nbformat": 4,
 "nbformat_minor": 2
}
