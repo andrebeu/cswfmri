{
 "cells": [
  {
   "cell_type": "code",
   "execution_count": 3,
   "metadata": {},
   "outputs": [],
   "source": [
    "import numpy as np\n",
    "import pandas as pd\n",
    "import itertools\n",
    "import matplotlib.pyplot as plt\n",
    "\n",
    "import sklearn\n",
    "import brainiak\n",
    "import nilearn as nl\n",
    "from nilearn import image, plotting, input_data\n",
    "from glob import glob as glob\n"
   ]
  },
  {
   "cell_type": "code",
   "execution_count": 5,
   "metadata": {},
   "outputs": [],
   "source": [
    "fpathL = glob('deriv/analyses/NvS_train_view_test_recall/*')"
   ]
  },
  {
   "cell_type": "code",
   "execution_count": 33,
   "metadata": {},
   "outputs": [],
   "source": [
    "accD = {}\n",
    "for fpath in fpathL:\n",
    "  acc = np.load(fpath)\n",
    "  subid,wedid = fpath.split('/')[-1].split('-')[:2]\n",
    "  subwed_id = '%s-%s'%(subid,wedid)\n",
    "  accD[subwed_id] = acc\n",
    "  "
   ]
  },
  {
   "cell_type": "code",
   "execution_count": 38,
   "metadata": {},
   "outputs": [
    {
     "data": {
      "text/plain": [
       "(0.49960229042124904, 0.11762212765231564)"
      ]
     },
     "execution_count": 38,
     "metadata": {},
     "output_type": "execute_result"
    }
   ],
   "source": [
    "\"\"\"group mean\"\"\"\n",
    "M = np.mean([i.mean() for i in accD.values()])\n",
    "S = np.std([i.mean() for i in accD.values()])\n",
    "M,S"
   ]
  },
  {
   "cell_type": "code",
   "execution_count": 27,
   "metadata": {},
   "outputs": [],
   "source": []
  },
  {
   "cell_type": "code",
   "execution_count": null,
   "metadata": {},
   "outputs": [],
   "source": [
    "\"\"\"plt and save each acc trace\"\"\"\n",
    "\n",
    "def plt_acc(acc):\n",
    "  plt.figure(figsize=(10,4))\n",
    "  plt.plot(acc)\n",
    "  plt.ylim(-.05,1.05)\n",
    "  for t in [0,1,0.5]:\n",
    "    plt.axhline(t,c='k',ls='--',lw=.4)\n",
    "    \n",
    "for swid,acc in accD.items():\n",
    "  plt_acc(acc)\n",
    "  plt.savefig('figures/NvS_train_view_test_recall/%s'%(swid))\n",
    "  plt.close('all')"
   ]
  }
 ],
 "metadata": {
  "kernelspec": {
   "display_name": "Python 3",
   "language": "python",
   "name": "python3"
  },
  "language_info": {
   "codemirror_mode": {
    "name": "ipython",
    "version": 3
   },
   "file_extension": ".py",
   "mimetype": "text/x-python",
   "name": "python",
   "nbconvert_exporter": "python",
   "pygments_lexer": "ipython3",
   "version": "3.6.12"
  }
 },
 "nbformat": 4,
 "nbformat_minor": 4
}
