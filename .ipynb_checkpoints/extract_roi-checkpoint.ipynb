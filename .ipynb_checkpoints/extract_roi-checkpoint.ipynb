{
 "cells": [
  {
   "cell_type": "code",
   "execution_count": 5,
   "metadata": {},
   "outputs": [],
   "source": [
    "import numpy as np\n",
    "import pandas as pd\n",
    "import matplotlib.pyplot as plt\n",
    "import nilearn as nl\n",
    "from nilearn import image, plotting, input_data"
   ]
  },
  {
   "cell_type": "markdown",
   "metadata": {},
   "source": [
    "sub-102_ses-02_task-recall_confounds_selected.txt are the ones for sub2 for the recall task. \n",
    "\n",
    "pass as argument to NiftiMasker when extract the data from the ROI-mask from the images"
   ]
  },
  {
   "cell_type": "code",
   "execution_count": 6,
   "metadata": {},
   "outputs": [],
   "source": [
    "def load_sub4d(sub_n,task='videos',max_len=4000,numpy_output=False):\n",
    "  \"\"\"\n",
    "  task = videos / recall2 \n",
    "  \"\"\"\n",
    "  ses = 2\n",
    "  fpath = 'data/fmri/func/sub-1%.2i_ses-0%i_task-%s_space-MNI152NLin2009cAsym_desc-preproc_bold.nii.gz'%(sub_n,ses,task)\n",
    "  try:\n",
    "    img = nl.image.load_img(fpath)\n",
    "  except:\n",
    "    print('NOT FOUND:',fpath)\n",
    "    return None\n",
    "  img = img.slicer[:,:,:,:max_len] # lengths differ\n",
    "  if numpy_output:\n",
    "    img = img.get_fdata() # nilearn into np\n",
    "  return img\n"
   ]
  },
  {
   "cell_type": "code",
   "execution_count": 7,
   "metadata": {},
   "outputs": [],
   "source": [
    "ROI_NAME_L = [\n",
    "  'rglasser_AT_net',\n",
    "  'rglasser_MP_net',\n",
    "  'rglasser_MTN_net',\n",
    "  'rglasser_PM_net',\n",
    "  'rhippocampusAAL',\n",
    "  'SnPM_filtered_FDR',\n",
    "  # 'rsherlockAvg_fc_thr5_mpfc',\n",
    "  # 'rsherlockAvg_fc_thr5_pmc',\n",
    "  # 'rsherlockAvg_fc_thr5_lTPJ',\n",
    "  # 'rsherlockAvg_fc_thr5_rTPJ',\n",
    "  # 'rsherlockAvg_fc_thr5_lSFG',\n",
    "  # 'rsherlockAvg_fc_thr5_rSFG',\n",
    "  # 'rhippocampusL_AAL',\n",
    "  # 'rhippocampusR_AAL'  \n",
    "]"
   ]
  },
  {
   "cell_type": "markdown",
   "metadata": {},
   "source": [
    "# main loop"
   ]
  },
  {
   "cell_type": "code",
   "execution_count": 10,
   "metadata": {
    "scrolled": true
   },
   "outputs": [
    {
     "name": "stdout",
     "output_type": "stream",
     "text": [
      "NOT FOUND: data/fmri/func/sub-100_ses-02_task-videos_space-MNI152NLin2009cAsym_desc-preproc_bold.nii.gz\n",
      "NOT FOUND: data/fmri/func/sub-100_ses-02_task-recall2_space-MNI152NLin2009cAsym_desc-preproc_bold.nii.gz\n",
      "NOT FOUND: data/fmri/func/sub-101_ses-02_task-videos_space-MNI152NLin2009cAsym_desc-preproc_bold.nii.gz\n",
      "NOT FOUND: data/fmri/func/sub-101_ses-02_task-recall2_space-MNI152NLin2009cAsym_desc-preproc_bold.nii.gz\n",
      "NOT FOUND: data/fmri/func/sub-102_ses-02_task-videos_space-MNI152NLin2009cAsym_desc-preproc_bold.nii.gz\n",
      "NOT FOUND: data/fmri/func/sub-102_ses-02_task-recall2_space-MNI152NLin2009cAsym_desc-preproc_bold.nii.gz\n",
      "NOT FOUND: data/fmri/func/sub-103_ses-02_task-videos_space-MNI152NLin2009cAsym_desc-preproc_bold.nii.gz\n",
      "NOT FOUND: data/fmri/func/sub-103_ses-02_task-recall2_space-MNI152NLin2009cAsym_desc-preproc_bold.nii.gz\n",
      "NOT FOUND: data/fmri/func/sub-104_ses-02_task-videos_space-MNI152NLin2009cAsym_desc-preproc_bold.nii.gz\n",
      "NOT FOUND: data/fmri/func/sub-104_ses-02_task-recall2_space-MNI152NLin2009cAsym_desc-preproc_bold.nii.gz\n",
      "NOT FOUND: data/fmri/func/sub-105_ses-02_task-videos_space-MNI152NLin2009cAsym_desc-preproc_bold.nii.gz\n",
      "NOT FOUND: data/fmri/func/sub-105_ses-02_task-recall2_space-MNI152NLin2009cAsym_desc-preproc_bold.nii.gz\n",
      "NOT FOUND: data/fmri/func/sub-106_ses-02_task-videos_space-MNI152NLin2009cAsym_desc-preproc_bold.nii.gz\n",
      "NOT FOUND: data/fmri/func/sub-106_ses-02_task-recall2_space-MNI152NLin2009cAsym_desc-preproc_bold.nii.gz\n",
      "NOT FOUND: data/fmri/func/sub-107_ses-02_task-videos_space-MNI152NLin2009cAsym_desc-preproc_bold.nii.gz\n",
      "NOT FOUND: data/fmri/func/sub-107_ses-02_task-recall2_space-MNI152NLin2009cAsym_desc-preproc_bold.nii.gz\n",
      "NOT FOUND: data/fmri/func/sub-108_ses-02_task-videos_space-MNI152NLin2009cAsym_desc-preproc_bold.nii.gz\n",
      "NOT FOUND: data/fmri/func/sub-108_ses-02_task-recall2_space-MNI152NLin2009cAsym_desc-preproc_bold.nii.gz\n",
      "NOT FOUND: data/fmri/func/sub-109_ses-02_task-videos_space-MNI152NLin2009cAsym_desc-preproc_bold.nii.gz\n",
      "NOT FOUND: data/fmri/func/sub-109_ses-02_task-recall2_space-MNI152NLin2009cAsym_desc-preproc_bold.nii.gz\n",
      "NOT FOUND: data/fmri/func/sub-110_ses-02_task-videos_space-MNI152NLin2009cAsym_desc-preproc_bold.nii.gz\n",
      "NOT FOUND: data/fmri/func/sub-110_ses-02_task-recall2_space-MNI152NLin2009cAsym_desc-preproc_bold.nii.gz\n",
      "NOT FOUND: data/fmri/func/sub-111_ses-02_task-videos_space-MNI152NLin2009cAsym_desc-preproc_bold.nii.gz\n",
      "NOT FOUND: data/fmri/func/sub-111_ses-02_task-recall2_space-MNI152NLin2009cAsym_desc-preproc_bold.nii.gz\n",
      "NOT FOUND: data/fmri/func/sub-112_ses-02_task-videos_space-MNI152NLin2009cAsym_desc-preproc_bold.nii.gz\n",
      "NOT FOUND: data/fmri/func/sub-112_ses-02_task-recall2_space-MNI152NLin2009cAsym_desc-preproc_bold.nii.gz\n",
      "NOT FOUND: data/fmri/func/sub-113_ses-02_task-videos_space-MNI152NLin2009cAsym_desc-preproc_bold.nii.gz\n",
      "NOT FOUND: data/fmri/func/sub-113_ses-02_task-recall2_space-MNI152NLin2009cAsym_desc-preproc_bold.nii.gz\n",
      "NOT FOUND: data/fmri/func/sub-114_ses-02_task-videos_space-MNI152NLin2009cAsym_desc-preproc_bold.nii.gz\n",
      "NOT FOUND: data/fmri/func/sub-114_ses-02_task-recall2_space-MNI152NLin2009cAsym_desc-preproc_bold.nii.gz\n",
      "NOT FOUND: data/fmri/func/sub-115_ses-02_task-videos_space-MNI152NLin2009cAsym_desc-preproc_bold.nii.gz\n",
      "NOT FOUND: data/fmri/func/sub-115_ses-02_task-recall2_space-MNI152NLin2009cAsym_desc-preproc_bold.nii.gz\n",
      "NOT FOUND: data/fmri/func/sub-116_ses-02_task-videos_space-MNI152NLin2009cAsym_desc-preproc_bold.nii.gz\n",
      "NOT FOUND: data/fmri/func/sub-116_ses-02_task-recall2_space-MNI152NLin2009cAsym_desc-preproc_bold.nii.gz\n",
      "NOT FOUND: data/fmri/func/sub-117_ses-02_task-videos_space-MNI152NLin2009cAsym_desc-preproc_bold.nii.gz\n",
      "NOT FOUND: data/fmri/func/sub-117_ses-02_task-recall2_space-MNI152NLin2009cAsym_desc-preproc_bold.nii.gz\n",
      "NOT FOUND: data/fmri/func/sub-118_ses-02_task-videos_space-MNI152NLin2009cAsym_desc-preproc_bold.nii.gz\n",
      "NOT FOUND: data/fmri/func/sub-118_ses-02_task-recall2_space-MNI152NLin2009cAsym_desc-preproc_bold.nii.gz\n",
      "NOT FOUND: data/fmri/func/sub-119_ses-02_task-videos_space-MNI152NLin2009cAsym_desc-preproc_bold.nii.gz\n",
      "NOT FOUND: data/fmri/func/sub-119_ses-02_task-recall2_space-MNI152NLin2009cAsym_desc-preproc_bold.nii.gz\n",
      "NOT FOUND: data/fmri/func/sub-120_ses-02_task-videos_space-MNI152NLin2009cAsym_desc-preproc_bold.nii.gz\n",
      "NOT FOUND: data/fmri/func/sub-120_ses-02_task-recall2_space-MNI152NLin2009cAsym_desc-preproc_bold.nii.gz\n",
      "NOT FOUND: data/fmri/func/sub-121_ses-02_task-videos_space-MNI152NLin2009cAsym_desc-preproc_bold.nii.gz\n",
      "NOT FOUND: data/fmri/func/sub-121_ses-02_task-recall2_space-MNI152NLin2009cAsym_desc-preproc_bold.nii.gz\n",
      "NOT FOUND: data/fmri/func/sub-122_ses-02_task-videos_space-MNI152NLin2009cAsym_desc-preproc_bold.nii.gz\n",
      "NOT FOUND: data/fmri/func/sub-122_ses-02_task-recall2_space-MNI152NLin2009cAsym_desc-preproc_bold.nii.gz\n",
      "NOT FOUND: data/fmri/func/sub-123_ses-02_task-videos_space-MNI152NLin2009cAsym_desc-preproc_bold.nii.gz\n",
      "NOT FOUND: data/fmri/func/sub-123_ses-02_task-recall2_space-MNI152NLin2009cAsym_desc-preproc_bold.nii.gz\n",
      "NOT FOUND: data/fmri/func/sub-124_ses-02_task-videos_space-MNI152NLin2009cAsym_desc-preproc_bold.nii.gz\n",
      "NOT FOUND: data/fmri/func/sub-124_ses-02_task-recall2_space-MNI152NLin2009cAsym_desc-preproc_bold.nii.gz\n",
      "NOT FOUND: data/fmri/func/sub-125_ses-02_task-videos_space-MNI152NLin2009cAsym_desc-preproc_bold.nii.gz\n",
      "NOT FOUND: data/fmri/func/sub-125_ses-02_task-recall2_space-MNI152NLin2009cAsym_desc-preproc_bold.nii.gz\n",
      "NOT FOUND: data/fmri/func/sub-126_ses-02_task-videos_space-MNI152NLin2009cAsym_desc-preproc_bold.nii.gz\n",
      "NOT FOUND: data/fmri/func/sub-126_ses-02_task-recall2_space-MNI152NLin2009cAsym_desc-preproc_bold.nii.gz\n",
      "NOT FOUND: data/fmri/func/sub-127_ses-02_task-videos_space-MNI152NLin2009cAsym_desc-preproc_bold.nii.gz\n",
      "NOT FOUND: data/fmri/func/sub-127_ses-02_task-recall2_space-MNI152NLin2009cAsym_desc-preproc_bold.nii.gz\n",
      "NOT FOUND: data/fmri/func/sub-128_ses-02_task-videos_space-MNI152NLin2009cAsym_desc-preproc_bold.nii.gz\n",
      "NOT FOUND: data/fmri/func/sub-128_ses-02_task-recall2_space-MNI152NLin2009cAsym_desc-preproc_bold.nii.gz\n",
      "NOT FOUND: data/fmri/func/sub-129_ses-02_task-videos_space-MNI152NLin2009cAsym_desc-preproc_bold.nii.gz\n",
      "NOT FOUND: data/fmri/func/sub-129_ses-02_task-recall2_space-MNI152NLin2009cAsym_desc-preproc_bold.nii.gz\n",
      "NOT FOUND: data/fmri/func/sub-130_ses-02_task-videos_space-MNI152NLin2009cAsym_desc-preproc_bold.nii.gz\n",
      "subj30 roi= rglasser_AT_net\n"
     ]
    },
    {
     "ename": "NameError",
     "evalue": "name 'sub_num' is not defined",
     "output_type": "error",
     "traceback": [
      "\u001b[0;31m---------------------------------------------------------------------------\u001b[0m",
      "\u001b[0;31mNameError\u001b[0m                                 Traceback (most recent call last)",
      "\u001b[0;32m<ipython-input-10-8614383c502b>\u001b[0m in \u001b[0;36m<module>\u001b[0;34m\u001b[0m\n\u001b[1;32m     19\u001b[0m       \u001b[0mnifti_masker\u001b[0m \u001b[0;34m=\u001b[0m \u001b[0mnl\u001b[0m\u001b[0;34m.\u001b[0m\u001b[0minput_data\u001b[0m\u001b[0;34m.\u001b[0m\u001b[0mNiftiMasker\u001b[0m\u001b[0;34m(\u001b[0m\u001b[0mmask_img\u001b[0m\u001b[0;34m=\u001b[0m\u001b[0mroi_img\u001b[0m\u001b[0;34m,\u001b[0m\u001b[0mhigh_pass\u001b[0m\u001b[0;34m=\u001b[0m\u001b[0;36m1\u001b[0m\u001b[0;34m/\u001b[0m\u001b[0;36m128\u001b[0m\u001b[0;34m,\u001b[0m\u001b[0mt_r\u001b[0m\u001b[0;34m=\u001b[0m\u001b[0;36m1.5\u001b[0m\u001b[0;34m)\u001b[0m\u001b[0;34m\u001b[0m\u001b[0;34m\u001b[0m\u001b[0m\n\u001b[1;32m     20\u001b[0m       sub4d_masked = nifti_masker.fit_transform(sub4d,\n\u001b[0;32m---> 21\u001b[0;31m                       confounds=\"data/fmri/selected_nuisance/sub-%i_ses-02_task-%s_confounds_selected.txt\"%(100+sub_num,task[:6]))\n\u001b[0m\u001b[1;32m     22\u001b[0m       \u001b[0;31m# save\u001b[0m\u001b[0;34m\u001b[0m\u001b[0;34m\u001b[0m\u001b[0;34m\u001b[0m\u001b[0m\n\u001b[1;32m     23\u001b[0m       \u001b[0msave_fpath\u001b[0m \u001b[0;34m=\u001b[0m \u001b[0;34m\"sub-%i_task-%s_roi-%s\"\u001b[0m\u001b[0;34m%\u001b[0m\u001b[0;34m(\u001b[0m\u001b[0msub_n\u001b[0m\u001b[0;34m,\u001b[0m\u001b[0mtask\u001b[0m\u001b[0;34m,\u001b[0m\u001b[0mroi_name\u001b[0m\u001b[0;34m)\u001b[0m\u001b[0;34m\u001b[0m\u001b[0;34m\u001b[0m\u001b[0m\n",
      "\u001b[0;31mNameError\u001b[0m: name 'sub_num' is not defined"
     ]
    }
   ],
   "source": [
    "for sub_n in np.arange(45):\n",
    "  # load subj\n",
    "  for task in ['videos','recall2']:\n",
    "    sub4d = load_sub4d(sub_n,task=task,max_len=4000,numpy_output=False)\n",
    "    if sub4d == None:\n",
    "      continue\n",
    "    for roi_name in ROI_NAME_L:\n",
    "      print('subj%i'%sub_n,'roi=',roi_name)\n",
    "      # load & threshold mask\n",
    "      roi_img = nl.image.threshold_img(\n",
    "        nl.image.load_img(\"data/fmri/rois/%s.nii\"%roi_name\n",
    "          ),0.5)\n",
    "      # plt masks\n",
    "      plt.figure(figsize=(3,8))\n",
    "      nl.plotting.plot_glass_brain(roi_img)\n",
    "      plt.savefig('figures/masks/%s'%roi_name)\n",
    "      plt.close('all')\n",
    "      # init & apply mask\n",
    "      nifti_masker = nl.input_data.NiftiMasker(mask_img=roi_img,high_pass=1/128,t_r=1.5)\n",
    "      sub4d_masked = nifti_masker.fit_transform(sub4d,\n",
    "                      confounds=\"data/fmri/selected_nuisance/sub-%i_ses-02_task-%s_confounds_selected.txt\"%(\n",
    "                        100+sub_n,task[:6]))\n",
    "      # save\n",
    "      save_fpath = \"sub-%i_task-%s_roi-%s\"%(sub_n,task,roi_name)\n",
    "      np.save('data/fmri/masked/%s'%save_fpath,sub4d_masked)\n"
   ]
  }
 ],
 "metadata": {
  "kernelspec": {
   "display_name": "Python 3",
   "language": "python",
   "name": "python3"
  },
  "language_info": {
   "codemirror_mode": {
    "name": "ipython",
    "version": 3
   },
   "file_extension": ".py",
   "mimetype": "text/x-python",
   "name": "python",
   "nbconvert_exporter": "python",
   "pygments_lexer": "ipython3",
   "version": "3.6.12"
  }
 },
 "nbformat": 4,
 "nbformat_minor": 4
}
