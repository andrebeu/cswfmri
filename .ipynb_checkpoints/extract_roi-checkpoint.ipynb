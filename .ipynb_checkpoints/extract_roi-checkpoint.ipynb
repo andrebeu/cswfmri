{
 "cells": [
  {
   "cell_type": "code",
   "execution_count": 1,
   "metadata": {},
   "outputs": [],
   "source": [
    "import numpy as np\n",
    "import pandas as pd\n",
    "import matplotlib.pyplot as plt\n",
    "import nilearn as nl\n",
    "from nilearn import image, plotting, input_data\n",
    "import itertools"
   ]
  },
  {
   "cell_type": "code",
   "execution_count": 2,
   "metadata": {},
   "outputs": [],
   "source": [
    "def load_sub4d(sub_n,task='videos',max_len=4000,numpy_output=False):\n",
    "  \"\"\"\n",
    "  task = videos / recall2 \n",
    "  \"\"\"\n",
    "  ses = 2\n",
    "  data_dir = 'data/fmri/wholebrain/'\n",
    "  fpath = data_dir + 'sub-1%.2i_ses-0%i_task-%s_space-MNI152NLin2009cAsym_desc-preproc_bold.nii.gz'%(sub_n,ses,task)\n",
    "  try:\n",
    "    img = nl.image.load_img(fpath)\n",
    "  except:\n",
    "    print('NOT FOUND:',fpath)\n",
    "    return None\n",
    "  img = img.slicer[:,:,:,:max_len] # lengths differ\n",
    "  if numpy_output:\n",
    "    img = img.get_fdata() # nilearn into np\n",
    "  return img\n"
   ]
  },
  {
   "cell_type": "code",
   "execution_count": 3,
   "metadata": {},
   "outputs": [],
   "source": [
    "roi_name_L = [\n",
    "  'SnPM_filtered_FDR',\n",
    "  'rglasser_AT_net',\n",
    "  'rglasser_MP_net',\n",
    "  'rglasser_MTN_net',\n",
    "  'rglasser_PM_net',\n",
    "  'rhippocampusAAL', \n",
    "]"
   ]
  },
  {
   "cell_type": "markdown",
   "metadata": {},
   "source": [
    "# main loop"
   ]
  },
  {
   "cell_type": "code",
   "execution_count": 4,
   "metadata": {},
   "outputs": [],
   "source": [
    "sub_ns = np.arange(45)\n",
    "sub_ns = [33]\n",
    "filter_denom_L = [None,128,480] "
   ]
  },
  {
   "cell_type": "code",
   "execution_count": null,
   "metadata": {
    "scrolled": true
   },
   "outputs": [],
   "source": [
    "for sub_n,task in itertools.product(sub_ns,['videos','recall2']):\n",
    "  # load wholebrain data\n",
    "  sub4d = load_sub4d(sub_n,task=task,max_len=4000,numpy_output=False)\n",
    "  if sub4d == None: \n",
    "    print('wholebrain data for sub',sub_n,task,'not found')\n",
    "    continue\n",
    "  for roi_name,filter_denom in itertools.product(roi_name_L,filter_denom_L):\n",
    "    print('subj%i'%sub_n,'roi=',roi_name,'filter',1/filter_denom)\n",
    "    # load & threshold mask\n",
    "    try: roi_img = nl.image.load_img(\"data/fmri/rois/%s.nii\"%roi_name)\n",
    "    except: print('roi not found',roi_name)\n",
    "      continue\n",
    "    # thresholding: functional masks are different\n",
    "    if roi_name=='SnPM_filtered_FDR':\n",
    "      roi_img = nl.image.math_img('img>0',img=roi_img)\n",
    "    else:\n",
    "      roi_img = nl.image.threshold_img(roi_img,0.5)\n",
    "    # init & apply mask\n",
    "    if filter_denom:\n",
    "      nifti_masker = nl.input_data.NiftiMasker(mask_img=roi_img,high_pass=1/filter_denom,t_r=1.5)\n",
    "    else:\n",
    "      nifti_masker = nl.input_data.NiftiMasker(mask_img=roi_img)\n",
    "    try:\n",
    "      sub4d_masked = nifti_masker.fit_transform(sub4d,\n",
    "        confounds=\"data/fmri/selected_nuisance/sub-%i_ses-02_task-%s_confounds_selected.txt\"%(100+sub_n,task[:6]))\n",
    "    except:\n",
    "      print('- err running nifti_masker.fit_transform on',sub_n,roi_name)\n",
    "      continue\n",
    "    # save\n",
    "    save_fpath = \"sub-%i_task-%s_roi-%s-filter_%i\"%(sub_n,task,roi_name,filter_denom)\n",
    "    np.save('data/fmri/roi_act/%s'%save_fpath,sub4d_masked)\n"
   ]
  },
  {
   "cell_type": "code",
   "execution_count": null,
   "metadata": {},
   "outputs": [],
   "source": []
  }
 ],
 "metadata": {
  "kernelspec": {
   "display_name": "Python 3",
   "language": "python",
   "name": "python3"
  },
  "language_info": {
   "codemirror_mode": {
    "name": "ipython",
    "version": 3
   },
   "file_extension": ".py",
   "mimetype": "text/x-python",
   "name": "python",
   "nbconvert_exporter": "python",
   "pygments_lexer": "ipython3",
   "version": "3.6.12"
  }
 },
 "nbformat": 4,
 "nbformat_minor": 4
}
